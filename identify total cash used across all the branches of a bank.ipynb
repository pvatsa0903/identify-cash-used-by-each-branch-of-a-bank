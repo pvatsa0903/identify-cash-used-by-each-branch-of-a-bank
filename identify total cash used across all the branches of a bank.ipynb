{
 "cells": [
  {
   "cell_type": "markdown",
   "metadata": {
    "papermill": {
     "duration": 0.039488,
     "end_time": "2021-01-22T21:59:26.657393",
     "exception": false,
     "start_time": "2021-01-22T21:59:26.617905",
     "status": "completed"
    },
    "tags": []
   },
   "source": [
    "## 1. Importing libraries and dataset"
   ]
  },
  {
   "cell_type": "code",
   "execution_count": 1,
   "metadata": {
    "_cell_guid": "b1076dfc-b9ad-4769-8c92-a6c4dae69d19",
    "_uuid": "8f2839f25d086af736a60e9eeb907d3b93b6e0e5",
    "execution": {
     "iopub.execute_input": "2021-01-22T21:59:26.747170Z",
     "iopub.status.busy": "2021-01-22T21:59:26.746220Z",
     "iopub.status.idle": "2021-01-22T21:59:28.240659Z",
     "shell.execute_reply": "2021-01-22T21:59:28.239948Z"
    },
    "papermill": {
     "duration": 1.544346,
     "end_time": "2021-01-22T21:59:28.240785",
     "exception": false,
     "start_time": "2021-01-22T21:59:26.696439",
     "status": "completed"
    },
    "tags": []
   },
   "outputs": [
    {
     "name": "stdout",
     "output_type": "stream",
     "text": [
      "/kaggle/input/crossroads-classic-datathon-2021/TCU_HolidayList.csv\n",
      "/kaggle/input/crossroads-classic-datathon-2021/DataDictionary.xlsx\n",
      "/kaggle/input/crossroads-classic-datathon-2021/Training.csv\n",
      "/kaggle/input/crossroads-classic-datathon-2021/Training_SupplementalFields.csv\n"
     ]
    }
   ],
   "source": [
    "import numpy as np \n",
    "import pandas as pd\n",
    "import matplotlib.pyplot as plt\n",
    "import seaborn as sns\n",
    "from sklearn.model_selection import train_test_split \n",
    "from sklearn.model_selection import GridSearchCV\n",
    "from sklearn.metrics import mean_absolute_error, mean_squared_error\n",
    "from sklearn.preprocessing import LabelEncoder\n",
    "from sklearn.preprocessing import StandardScaler\n",
    "import regex as re\n",
    "from datetime import datetime as dt\n",
    "def smape(A, F):\n",
    "    return 100/len(A) * np.sum(2 * np.abs(F - A) / (np.abs(A) + np.abs(F)))\n",
    "\n",
    "import os\n",
    "for dirname, _, filenames in os.walk('/kaggle/input'):\n",
    "    for filename in filenames:\n",
    "        print(os.path.join(dirname, filename))\n",
    "        \n",
    "import warnings \n",
    "warnings.filterwarnings('ignore')\n",
    "pd.set_option('max_columns', 20)"
   ]
  },
  {
   "cell_type": "code",
   "execution_count": 2,
   "metadata": {
    "_cell_guid": "79c7e3d0-c299-4dcb-8224-4455121ee9b0",
    "_uuid": "d629ff2d2480ee46fbb7e2d37f6b5fab8052498a",
    "execution": {
     "iopub.execute_input": "2021-01-22T21:59:28.329807Z",
     "iopub.status.busy": "2021-01-22T21:59:28.329046Z",
     "iopub.status.idle": "2021-01-22T21:59:29.582824Z",
     "shell.execute_reply": "2021-01-22T21:59:29.583418Z"
    },
    "papermill": {
     "duration": 1.302556,
     "end_time": "2021-01-22T21:59:29.583734",
     "exception": false,
     "start_time": "2021-01-22T21:59:28.281178",
     "status": "completed"
    },
    "tags": []
   },
   "outputs": [],
   "source": [
    "training_filepath = '/kaggle/input/crossroads-classic-datathon-2021/Training.csv'\n",
    "training_supp_filepath = '/kaggle/input/crossroads-classic-datathon-2021/Training_SupplementalFields.csv'\n",
    "dictionary_filepath = '/kaggle/input/crossroads-classic-datathon-2021/DataDictionary.xlsx'\n",
    "holiday_filepath = '/kaggle/input/crossroads-classic-datathon-2021/TCU_HolidayList.csv'\n",
    "\n",
    "train = pd.read_csv(training_filepath)\n",
    "train_supp = pd.read_csv(training_supp_filepath)\n",
    "dictionary = pd.read_excel(dictionary_filepath)\n",
    "holidays = pd.read_csv(holiday_filepath)"
   ]
  },
  {
   "cell_type": "code",
   "execution_count": 3,
   "metadata": {
    "execution": {
     "iopub.execute_input": "2021-01-22T21:59:29.687335Z",
     "iopub.status.busy": "2021-01-22T21:59:29.677335Z",
     "iopub.status.idle": "2021-01-22T21:59:29.698425Z",
     "shell.execute_reply": "2021-01-22T21:59:29.699214Z"
    },
    "papermill": {
     "duration": 0.0751,
     "end_time": "2021-01-22T21:59:29.699386",
     "exception": false,
     "start_time": "2021-01-22T21:59:29.624286",
     "status": "completed"
    },
    "tags": []
   },
   "outputs": [
    {
     "data": {
      "text/html": [
       "<div>\n",
       "<style scoped>\n",
       "    .dataframe tbody tr th:only-of-type {\n",
       "        vertical-align: middle;\n",
       "    }\n",
       "\n",
       "    .dataframe tbody tr th {\n",
       "        vertical-align: top;\n",
       "    }\n",
       "\n",
       "    .dataframe thead th {\n",
       "        text-align: right;\n",
       "    }\n",
       "</style>\n",
       "<table border=\"1\" class=\"dataframe\">\n",
       "  <thead>\n",
       "    <tr style=\"text-align: right;\">\n",
       "      <th></th>\n",
       "      <th>BusinessDate</th>\n",
       "      <th>BranchID</th>\n",
       "      <th>CashOrdersReceived</th>\n",
       "      <th>CashBalance_StartOfDay</th>\n",
       "      <th>TotalCashUsed</th>\n",
       "    </tr>\n",
       "  </thead>\n",
       "  <tbody>\n",
       "    <tr>\n",
       "      <th>0</th>\n",
       "      <td>07/31/2020</td>\n",
       "      <td>99</td>\n",
       "      <td>-</td>\n",
       "      <td>775,054.00</td>\n",
       "      <td>(43,718.13)</td>\n",
       "    </tr>\n",
       "    <tr>\n",
       "      <th>1</th>\n",
       "      <td>07/30/2020</td>\n",
       "      <td>99</td>\n",
       "      <td>-</td>\n",
       "      <td>1,036,464.13</td>\n",
       "      <td>261,410.14</td>\n",
       "    </tr>\n",
       "    <tr>\n",
       "      <th>2</th>\n",
       "      <td>07/29/2020</td>\n",
       "      <td>99</td>\n",
       "      <td>400,540.11</td>\n",
       "      <td>1,141,386.84</td>\n",
       "      <td>104,922.70</td>\n",
       "    </tr>\n",
       "    <tr>\n",
       "      <th>3</th>\n",
       "      <td>07/28/2020</td>\n",
       "      <td>99</td>\n",
       "      <td>-</td>\n",
       "      <td>864,871.20</td>\n",
       "      <td>124,024.48</td>\n",
       "    </tr>\n",
       "    <tr>\n",
       "      <th>4</th>\n",
       "      <td>07/27/2020</td>\n",
       "      <td>99</td>\n",
       "      <td>-</td>\n",
       "      <td>923,948.57</td>\n",
       "      <td>59,077.37</td>\n",
       "    </tr>\n",
       "  </tbody>\n",
       "</table>\n",
       "</div>"
      ],
      "text/plain": [
       "  BusinessDate  BranchID  CashOrdersReceived   CashBalance_StartOfDay   \\\n",
       "0   07/31/2020        99                 -                 775,054.00    \n",
       "1   07/30/2020        99                 -               1,036,464.13    \n",
       "2   07/29/2020        99          400,540.11             1,141,386.84    \n",
       "3   07/28/2020        99                 -                 864,871.20    \n",
       "4   07/27/2020        99                 -                 923,948.57    \n",
       "\n",
       "   TotalCashUsed   \n",
       "0     (43,718.13)  \n",
       "1     261,410.14   \n",
       "2     104,922.70   \n",
       "3     124,024.48   \n",
       "4      59,077.37   "
      ]
     },
     "execution_count": 3,
     "metadata": {},
     "output_type": "execute_result"
    }
   ],
   "source": [
    "train.head()"
   ]
  },
  {
   "cell_type": "code",
   "execution_count": 4,
   "metadata": {
    "execution": {
     "iopub.execute_input": "2021-01-22T21:59:29.797283Z",
     "iopub.status.busy": "2021-01-22T21:59:29.796134Z",
     "iopub.status.idle": "2021-01-22T21:59:29.802782Z",
     "shell.execute_reply": "2021-01-22T21:59:29.804669Z"
    },
    "papermill": {
     "duration": 0.062901,
     "end_time": "2021-01-22T21:59:29.804842",
     "exception": false,
     "start_time": "2021-01-22T21:59:29.741941",
     "status": "completed"
    },
    "tags": []
   },
   "outputs": [
    {
     "data": {
      "text/plain": [
       "(171230, 5)"
      ]
     },
     "execution_count": 4,
     "metadata": {},
     "output_type": "execute_result"
    }
   ],
   "source": [
    "train.shape"
   ]
  },
  {
   "cell_type": "markdown",
   "metadata": {
    "papermill": {
     "duration": 0.043721,
     "end_time": "2021-01-22T21:59:29.899414",
     "exception": false,
     "start_time": "2021-01-22T21:59:29.855693",
     "status": "completed"
    },
    "tags": []
   },
   "source": [
    "## 2. Data cleaning"
   ]
  },
  {
   "cell_type": "code",
   "execution_count": 5,
   "metadata": {
    "execution": {
     "iopub.execute_input": "2021-01-22T21:59:30.230641Z",
     "iopub.status.busy": "2021-01-22T21:59:30.229907Z",
     "iopub.status.idle": "2021-01-22T21:59:30.484749Z",
     "shell.execute_reply": "2021-01-22T21:59:30.484088Z"
    },
    "papermill": {
     "duration": 0.541203,
     "end_time": "2021-01-22T21:59:30.484877",
     "exception": false,
     "start_time": "2021-01-22T21:59:29.943674",
     "status": "completed"
    },
    "tags": []
   },
   "outputs": [],
   "source": [
    "train.rename(columns=lambda x: x.strip(),inplace=True)\n",
    "train['BusinessDate'] = pd.to_datetime(train['BusinessDate'])\n",
    "train['BranchID'] = train['BranchID'].astype('str')"
   ]
  },
  {
   "cell_type": "code",
   "execution_count": 1,
   "metadata": {
    "execution": {
     "iopub.execute_input": "2021-01-22T21:59:30.591580Z",
     "iopub.status.busy": "2021-01-22T21:59:30.590850Z",
     "iopub.status.idle": "2021-01-22T21:59:31.262061Z",
     "shell.execute_reply": "2021-01-22T21:59:31.261364Z"
    },
    "papermill": {
     "duration": 0.737287,
     "end_time": "2021-01-22T21:59:31.262204",
     "exception": false,
     "start_time": "2021-01-22T21:59:30.524917",
     "status": "completed"
    },
    "tags": []
   },
   "outputs": [
    {
     "ename": "NameError",
     "evalue": "name 'train' is not defined",
     "output_type": "error",
     "traceback": [
      "\u001b[1;31m---------------------------------------------------------------------------\u001b[0m",
      "\u001b[1;31mNameError\u001b[0m                                 Traceback (most recent call last)",
      "\u001b[1;32m<ipython-input-1-600dc8f13415>\u001b[0m in \u001b[0;36m<module>\u001b[1;34m\u001b[0m\n\u001b[1;32m----> 1\u001b[1;33m \u001b[0mtrain\u001b[0m\u001b[1;33m[\u001b[0m\u001b[1;34m'TotalCashUsed'\u001b[0m\u001b[1;33m]\u001b[0m \u001b[1;33m=\u001b[0m \u001b[0mtrain\u001b[0m\u001b[1;33m[\u001b[0m\u001b[1;34m'TotalCashUsed'\u001b[0m\u001b[1;33m]\u001b[0m\u001b[1;33m.\u001b[0m\u001b[0mstr\u001b[0m\u001b[1;33m.\u001b[0m\u001b[0mreplace\u001b[0m\u001b[1;33m(\u001b[0m\u001b[1;34m\")\"\u001b[0m\u001b[1;33m,\u001b[0m\u001b[1;34m\"\"\u001b[0m\u001b[1;33m)\u001b[0m\u001b[1;33m\u001b[0m\u001b[1;33m\u001b[0m\u001b[0m\n\u001b[0m\u001b[0;32m      2\u001b[0m \u001b[0mtrain\u001b[0m\u001b[1;33m[\u001b[0m\u001b[1;34m'TotalCashUsed'\u001b[0m\u001b[1;33m]\u001b[0m \u001b[1;33m=\u001b[0m \u001b[0mtrain\u001b[0m\u001b[1;33m[\u001b[0m\u001b[1;34m'TotalCashUsed'\u001b[0m\u001b[1;33m]\u001b[0m\u001b[1;33m.\u001b[0m\u001b[0mstr\u001b[0m\u001b[1;33m.\u001b[0m\u001b[0mreplace\u001b[0m\u001b[1;33m(\u001b[0m\u001b[1;34m\",\"\u001b[0m\u001b[1;33m,\u001b[0m\u001b[1;34m\"\"\u001b[0m\u001b[1;33m)\u001b[0m\u001b[1;33m\u001b[0m\u001b[1;33m\u001b[0m\u001b[0m\n\u001b[0;32m      3\u001b[0m \u001b[0mtrain\u001b[0m\u001b[1;33m[\u001b[0m\u001b[1;34m'TotalCashUsed'\u001b[0m\u001b[1;33m]\u001b[0m \u001b[1;33m=\u001b[0m \u001b[0mtrain\u001b[0m\u001b[1;33m[\u001b[0m\u001b[1;34m'TotalCashUsed'\u001b[0m\u001b[1;33m]\u001b[0m\u001b[1;33m.\u001b[0m\u001b[0mstr\u001b[0m\u001b[1;33m.\u001b[0m\u001b[0mreplace\u001b[0m\u001b[1;33m(\u001b[0m\u001b[1;34m\" \"\u001b[0m\u001b[1;33m,\u001b[0m\u001b[1;34m\"\"\u001b[0m\u001b[1;33m)\u001b[0m\u001b[1;33m\u001b[0m\u001b[1;33m\u001b[0m\u001b[0m\n\u001b[0;32m      4\u001b[0m \u001b[0mtrain\u001b[0m\u001b[1;33m[\u001b[0m\u001b[1;34m'TotalCashUsed'\u001b[0m\u001b[1;33m]\u001b[0m \u001b[1;33m=\u001b[0m \u001b[0mtrain\u001b[0m\u001b[1;33m[\u001b[0m\u001b[1;34m'TotalCashUsed'\u001b[0m\u001b[1;33m]\u001b[0m\u001b[1;33m.\u001b[0m\u001b[0mstr\u001b[0m\u001b[1;33m.\u001b[0m\u001b[0mreplace\u001b[0m\u001b[1;33m(\u001b[0m\u001b[1;34m\"-\"\u001b[0m\u001b[1;33m,\u001b[0m\u001b[1;34m\"0\"\u001b[0m\u001b[1;33m)\u001b[0m\u001b[1;33m\u001b[0m\u001b[1;33m\u001b[0m\u001b[0m\n\u001b[0;32m      5\u001b[0m \u001b[0mtrain\u001b[0m\u001b[1;33m[\u001b[0m\u001b[1;34m'TotalCashUsed'\u001b[0m\u001b[1;33m]\u001b[0m \u001b[1;33m=\u001b[0m \u001b[0mtrain\u001b[0m\u001b[1;33m[\u001b[0m\u001b[1;34m'TotalCashUsed'\u001b[0m\u001b[1;33m]\u001b[0m\u001b[1;33m.\u001b[0m\u001b[0mstr\u001b[0m\u001b[1;33m.\u001b[0m\u001b[0mreplace\u001b[0m\u001b[1;33m(\u001b[0m\u001b[1;34m\"(\"\u001b[0m\u001b[1;33m,\u001b[0m\u001b[1;34m\"-\"\u001b[0m\u001b[1;33m)\u001b[0m\u001b[1;33m\u001b[0m\u001b[1;33m\u001b[0m\u001b[0m\n",
      "\u001b[1;31mNameError\u001b[0m: name 'train' is not defined"
     ]
    }
   ],
   "source": [
    "train['TotalCashUsed'] = train['TotalCashUsed'].str.replace(\")\",\"\") \n",
    "train['TotalCashUsed'] = train['TotalCashUsed'].str.replace(\",\",\"\") \n",
    "train['TotalCashUsed'] = train['TotalCashUsed'].str.replace(\" \",\"\") \n",
    "train['TotalCashUsed'] = train['TotalCashUsed'].str.replace(\"-\",\"0\")\n",
    "train['TotalCashUsed'] = train['TotalCashUsed'].str.replace(\"(\",\"-\") \n",
    "train['TotalCashUsed'] = train['TotalCashUsed'].astype('float')\n",
    "# train.replace(0,np.nan,inplace=True)"
   ]
  },
  {
   "cell_type": "code",
   "execution_count": 7,
   "metadata": {
    "execution": {
     "iopub.execute_input": "2021-01-22T21:59:31.362135Z",
     "iopub.status.busy": "2021-01-22T21:59:31.361047Z",
     "iopub.status.idle": "2021-01-22T21:59:31.366670Z",
     "shell.execute_reply": "2021-01-22T21:59:31.365963Z"
    },
    "papermill": {
     "duration": 0.062652,
     "end_time": "2021-01-22T21:59:31.366794",
     "exception": false,
     "start_time": "2021-01-22T21:59:31.304142",
     "status": "completed"
    },
    "tags": []
   },
   "outputs": [
    {
     "data": {
      "text/html": [
       "<div>\n",
       "<style scoped>\n",
       "    .dataframe tbody tr th:only-of-type {\n",
       "        vertical-align: middle;\n",
       "    }\n",
       "\n",
       "    .dataframe tbody tr th {\n",
       "        vertical-align: top;\n",
       "    }\n",
       "\n",
       "    .dataframe thead th {\n",
       "        text-align: right;\n",
       "    }\n",
       "</style>\n",
       "<table border=\"1\" class=\"dataframe\">\n",
       "  <thead>\n",
       "    <tr style=\"text-align: right;\">\n",
       "      <th></th>\n",
       "      <th>BusinessDate</th>\n",
       "      <th>BranchID</th>\n",
       "      <th>CashOrdersReceived</th>\n",
       "      <th>CashBalance_StartOfDay</th>\n",
       "      <th>TotalCashUsed</th>\n",
       "    </tr>\n",
       "  </thead>\n",
       "  <tbody>\n",
       "    <tr>\n",
       "      <th>0</th>\n",
       "      <td>2020-07-31</td>\n",
       "      <td>99</td>\n",
       "      <td>-</td>\n",
       "      <td>775,054.00</td>\n",
       "      <td>-43718.13</td>\n",
       "    </tr>\n",
       "    <tr>\n",
       "      <th>1</th>\n",
       "      <td>2020-07-30</td>\n",
       "      <td>99</td>\n",
       "      <td>-</td>\n",
       "      <td>1,036,464.13</td>\n",
       "      <td>261410.14</td>\n",
       "    </tr>\n",
       "    <tr>\n",
       "      <th>2</th>\n",
       "      <td>2020-07-29</td>\n",
       "      <td>99</td>\n",
       "      <td>400,540.11</td>\n",
       "      <td>1,141,386.84</td>\n",
       "      <td>104922.70</td>\n",
       "    </tr>\n",
       "    <tr>\n",
       "      <th>3</th>\n",
       "      <td>2020-07-28</td>\n",
       "      <td>99</td>\n",
       "      <td>-</td>\n",
       "      <td>864,871.20</td>\n",
       "      <td>124024.48</td>\n",
       "    </tr>\n",
       "    <tr>\n",
       "      <th>4</th>\n",
       "      <td>2020-07-27</td>\n",
       "      <td>99</td>\n",
       "      <td>-</td>\n",
       "      <td>923,948.57</td>\n",
       "      <td>59077.37</td>\n",
       "    </tr>\n",
       "  </tbody>\n",
       "</table>\n",
       "</div>"
      ],
      "text/plain": [
       "  BusinessDate BranchID CashOrdersReceived CashBalance_StartOfDay  \\\n",
       "0   2020-07-31       99               -               775,054.00    \n",
       "1   2020-07-30       99               -             1,036,464.13    \n",
       "2   2020-07-29       99        400,540.11           1,141,386.84    \n",
       "3   2020-07-28       99               -               864,871.20    \n",
       "4   2020-07-27       99               -               923,948.57    \n",
       "\n",
       "   TotalCashUsed  \n",
       "0      -43718.13  \n",
       "1      261410.14  \n",
       "2      104922.70  \n",
       "3      124024.48  \n",
       "4       59077.37  "
      ]
     },
     "execution_count": 7,
     "metadata": {},
     "output_type": "execute_result"
    }
   ],
   "source": [
    "train.head()"
   ]
  },
  {
   "cell_type": "markdown",
   "metadata": {
    "papermill": {
     "duration": 0.041261,
     "end_time": "2021-01-22T21:59:31.448743",
     "exception": false,
     "start_time": "2021-01-22T21:59:31.407482",
     "status": "completed"
    },
    "tags": []
   },
   "source": [
    "## 3. Feature engineering"
   ]
  },
  {
   "cell_type": "code",
   "execution_count": 8,
   "metadata": {
    "execution": {
     "iopub.execute_input": "2021-01-22T21:59:31.561864Z",
     "iopub.status.busy": "2021-01-22T21:59:31.559910Z",
     "iopub.status.idle": "2021-01-22T21:59:31.673689Z",
     "shell.execute_reply": "2021-01-22T21:59:31.674490Z"
    },
    "papermill": {
     "duration": 0.185387,
     "end_time": "2021-01-22T21:59:31.674688",
     "exception": false,
     "start_time": "2021-01-22T21:59:31.489301",
     "status": "completed"
    },
    "tags": []
   },
   "outputs": [
    {
     "data": {
      "text/html": [
       "<div>\n",
       "<style scoped>\n",
       "    .dataframe tbody tr th:only-of-type {\n",
       "        vertical-align: middle;\n",
       "    }\n",
       "\n",
       "    .dataframe tbody tr th {\n",
       "        vertical-align: top;\n",
       "    }\n",
       "\n",
       "    .dataframe thead th {\n",
       "        text-align: right;\n",
       "    }\n",
       "</style>\n",
       "<table border=\"1\" class=\"dataframe\">\n",
       "  <thead>\n",
       "    <tr style=\"text-align: right;\">\n",
       "      <th></th>\n",
       "      <th>BusinessDate</th>\n",
       "      <th>BranchID</th>\n",
       "      <th>CashOrdersReceived</th>\n",
       "      <th>CashBalance_StartOfDay</th>\n",
       "      <th>TotalCashUsed</th>\n",
       "      <th>DayofWeek</th>\n",
       "      <th>Month</th>\n",
       "      <th>DayofMonth</th>\n",
       "      <th>MonthEnd</th>\n",
       "      <th>Holiday</th>\n",
       "    </tr>\n",
       "  </thead>\n",
       "  <tbody>\n",
       "    <tr>\n",
       "      <th>0</th>\n",
       "      <td>2020-07-31</td>\n",
       "      <td>99</td>\n",
       "      <td>-</td>\n",
       "      <td>775,054.00</td>\n",
       "      <td>-43718.13</td>\n",
       "      <td>4</td>\n",
       "      <td>7</td>\n",
       "      <td>31</td>\n",
       "      <td>1</td>\n",
       "      <td>0</td>\n",
       "    </tr>\n",
       "    <tr>\n",
       "      <th>1</th>\n",
       "      <td>2020-07-30</td>\n",
       "      <td>99</td>\n",
       "      <td>-</td>\n",
       "      <td>1,036,464.13</td>\n",
       "      <td>261410.14</td>\n",
       "      <td>3</td>\n",
       "      <td>7</td>\n",
       "      <td>30</td>\n",
       "      <td>0</td>\n",
       "      <td>0</td>\n",
       "    </tr>\n",
       "    <tr>\n",
       "      <th>2</th>\n",
       "      <td>2020-07-29</td>\n",
       "      <td>99</td>\n",
       "      <td>400,540.11</td>\n",
       "      <td>1,141,386.84</td>\n",
       "      <td>104922.70</td>\n",
       "      <td>2</td>\n",
       "      <td>7</td>\n",
       "      <td>29</td>\n",
       "      <td>0</td>\n",
       "      <td>0</td>\n",
       "    </tr>\n",
       "    <tr>\n",
       "      <th>3</th>\n",
       "      <td>2020-07-28</td>\n",
       "      <td>99</td>\n",
       "      <td>-</td>\n",
       "      <td>864,871.20</td>\n",
       "      <td>124024.48</td>\n",
       "      <td>1</td>\n",
       "      <td>7</td>\n",
       "      <td>28</td>\n",
       "      <td>0</td>\n",
       "      <td>0</td>\n",
       "    </tr>\n",
       "    <tr>\n",
       "      <th>4</th>\n",
       "      <td>2020-07-27</td>\n",
       "      <td>99</td>\n",
       "      <td>-</td>\n",
       "      <td>923,948.57</td>\n",
       "      <td>59077.37</td>\n",
       "      <td>0</td>\n",
       "      <td>7</td>\n",
       "      <td>27</td>\n",
       "      <td>0</td>\n",
       "      <td>0</td>\n",
       "    </tr>\n",
       "    <tr>\n",
       "      <th>...</th>\n",
       "      <td>...</td>\n",
       "      <td>...</td>\n",
       "      <td>...</td>\n",
       "      <td>...</td>\n",
       "      <td>...</td>\n",
       "      <td>...</td>\n",
       "      <td>...</td>\n",
       "      <td>...</td>\n",
       "      <td>...</td>\n",
       "      <td>...</td>\n",
       "    </tr>\n",
       "    <tr>\n",
       "      <th>171225</th>\n",
       "      <td>2010-01-05</td>\n",
       "      <td>501</td>\n",
       "      <td>-</td>\n",
       "      <td>1,823,349.64</td>\n",
       "      <td>128908.86</td>\n",
       "      <td>1</td>\n",
       "      <td>1</td>\n",
       "      <td>5</td>\n",
       "      <td>0</td>\n",
       "      <td>0</td>\n",
       "    </tr>\n",
       "    <tr>\n",
       "      <th>171226</th>\n",
       "      <td>2010-01-04</td>\n",
       "      <td>501</td>\n",
       "      <td>-</td>\n",
       "      <td>1,869,916.04</td>\n",
       "      <td>46566.40</td>\n",
       "      <td>0</td>\n",
       "      <td>1</td>\n",
       "      <td>4</td>\n",
       "      <td>0</td>\n",
       "      <td>0</td>\n",
       "    </tr>\n",
       "    <tr>\n",
       "      <th>171227</th>\n",
       "      <td>2010-01-03</td>\n",
       "      <td>501</td>\n",
       "      <td>-</td>\n",
       "      <td>1,950,717.56</td>\n",
       "      <td>80801.52</td>\n",
       "      <td>6</td>\n",
       "      <td>1</td>\n",
       "      <td>3</td>\n",
       "      <td>0</td>\n",
       "      <td>0</td>\n",
       "    </tr>\n",
       "    <tr>\n",
       "      <th>171228</th>\n",
       "      <td>2010-01-02</td>\n",
       "      <td>501</td>\n",
       "      <td>-</td>\n",
       "      <td>1,950,717.56</td>\n",
       "      <td>0.00</td>\n",
       "      <td>5</td>\n",
       "      <td>1</td>\n",
       "      <td>2</td>\n",
       "      <td>0</td>\n",
       "      <td>0</td>\n",
       "    </tr>\n",
       "    <tr>\n",
       "      <th>171229</th>\n",
       "      <td>2010-01-01</td>\n",
       "      <td>501</td>\n",
       "      <td>-</td>\n",
       "      <td>2,029,347.65</td>\n",
       "      <td>78630.09</td>\n",
       "      <td>4</td>\n",
       "      <td>1</td>\n",
       "      <td>1</td>\n",
       "      <td>0</td>\n",
       "      <td>1</td>\n",
       "    </tr>\n",
       "  </tbody>\n",
       "</table>\n",
       "<p>171230 rows × 10 columns</p>\n",
       "</div>"
      ],
      "text/plain": [
       "       BusinessDate BranchID CashOrdersReceived CashBalance_StartOfDay  \\\n",
       "0        2020-07-31       99               -               775,054.00    \n",
       "1        2020-07-30       99               -             1,036,464.13    \n",
       "2        2020-07-29       99        400,540.11           1,141,386.84    \n",
       "3        2020-07-28       99               -               864,871.20    \n",
       "4        2020-07-27       99               -               923,948.57    \n",
       "...             ...      ...                ...                    ...   \n",
       "171225   2010-01-05      501               -             1,823,349.64    \n",
       "171226   2010-01-04      501               -             1,869,916.04    \n",
       "171227   2010-01-03      501               -             1,950,717.56    \n",
       "171228   2010-01-02      501               -             1,950,717.56    \n",
       "171229   2010-01-01      501               -             2,029,347.65    \n",
       "\n",
       "        TotalCashUsed  DayofWeek  Month  DayofMonth  MonthEnd  Holiday  \n",
       "0           -43718.13          4      7          31         1        0  \n",
       "1           261410.14          3      7          30         0        0  \n",
       "2           104922.70          2      7          29         0        0  \n",
       "3           124024.48          1      7          28         0        0  \n",
       "4            59077.37          0      7          27         0        0  \n",
       "...               ...        ...    ...         ...       ...      ...  \n",
       "171225      128908.86          1      1           5         0        0  \n",
       "171226       46566.40          0      1           4         0        0  \n",
       "171227       80801.52          6      1           3         0        0  \n",
       "171228           0.00          5      1           2         0        0  \n",
       "171229       78630.09          4      1           1         0        1  \n",
       "\n",
       "[171230 rows x 10 columns]"
      ]
     },
     "execution_count": 8,
     "metadata": {},
     "output_type": "execute_result"
    }
   ],
   "source": [
    "#Date related features\n",
    "train['BusinessDate'] = pd.to_datetime(train['BusinessDate'])\n",
    "train['DayofWeek'] = train['BusinessDate'].dt.dayofweek\n",
    "train['Month'] = train['BusinessDate'].dt.month\n",
    "train['DayofMonth'] = train['BusinessDate'].dt.day\n",
    "train['MonthEnd'] = np.where(train['BusinessDate'].dt.is_month_end,1,0)\n",
    "\n",
    "\n",
    "#Specific period related features\n",
    "train['Holiday'] = train['BusinessDate'].isin(holidays['HolidayDate']).astype(int)\n",
    "# train['COVIDPeriod'] = np.where(train['BusinessDate']>'2020-03-20',1,0)\n",
    "train"
   ]
  },
  {
   "cell_type": "code",
   "execution_count": 9,
   "metadata": {
    "execution": {
     "iopub.execute_input": "2021-01-22T21:59:31.768573Z",
     "iopub.status.busy": "2021-01-22T21:59:31.767858Z",
     "iopub.status.idle": "2021-01-22T21:59:31.843272Z",
     "shell.execute_reply": "2021-01-22T21:59:31.843798Z"
    },
    "papermill": {
     "duration": 0.125644,
     "end_time": "2021-01-22T21:59:31.843961",
     "exception": false,
     "start_time": "2021-01-22T21:59:31.718317",
     "status": "completed"
    },
    "tags": []
   },
   "outputs": [
    {
     "data": {
      "text/html": [
       "<div>\n",
       "<style scoped>\n",
       "    .dataframe tbody tr th:only-of-type {\n",
       "        vertical-align: middle;\n",
       "    }\n",
       "\n",
       "    .dataframe tbody tr th {\n",
       "        vertical-align: top;\n",
       "    }\n",
       "\n",
       "    .dataframe thead th {\n",
       "        text-align: right;\n",
       "    }\n",
       "</style>\n",
       "<table border=\"1\" class=\"dataframe\">\n",
       "  <thead>\n",
       "    <tr style=\"text-align: right;\">\n",
       "      <th></th>\n",
       "      <th>TotalCashUsed</th>\n",
       "    </tr>\n",
       "    <tr>\n",
       "      <th>BusinessDate</th>\n",
       "      <th></th>\n",
       "    </tr>\n",
       "  </thead>\n",
       "  <tbody>\n",
       "    <tr>\n",
       "      <th>2010-01-01</th>\n",
       "      <td>1599004.05</td>\n",
       "    </tr>\n",
       "    <tr>\n",
       "      <th>2010-01-02</th>\n",
       "      <td>0.00</td>\n",
       "    </tr>\n",
       "    <tr>\n",
       "      <th>2010-01-03</th>\n",
       "      <td>3417118.94</td>\n",
       "    </tr>\n",
       "    <tr>\n",
       "      <th>2010-01-04</th>\n",
       "      <td>1956116.61</td>\n",
       "    </tr>\n",
       "    <tr>\n",
       "      <th>2010-01-05</th>\n",
       "      <td>2288372.97</td>\n",
       "    </tr>\n",
       "    <tr>\n",
       "      <th>...</th>\n",
       "      <td>...</td>\n",
       "    </tr>\n",
       "    <tr>\n",
       "      <th>2020-07-27</th>\n",
       "      <td>1277209.22</td>\n",
       "    </tr>\n",
       "    <tr>\n",
       "      <th>2020-07-28</th>\n",
       "      <td>5136111.36</td>\n",
       "    </tr>\n",
       "    <tr>\n",
       "      <th>2020-07-29</th>\n",
       "      <td>1404346.94</td>\n",
       "    </tr>\n",
       "    <tr>\n",
       "      <th>2020-07-30</th>\n",
       "      <td>7172597.38</td>\n",
       "    </tr>\n",
       "    <tr>\n",
       "      <th>2020-07-31</th>\n",
       "      <td>1831300.41</td>\n",
       "    </tr>\n",
       "  </tbody>\n",
       "</table>\n",
       "<p>3837 rows × 1 columns</p>\n",
       "</div>"
      ],
      "text/plain": [
       "              TotalCashUsed\n",
       "BusinessDate               \n",
       "2010-01-01       1599004.05\n",
       "2010-01-02             0.00\n",
       "2010-01-03       3417118.94\n",
       "2010-01-04       1956116.61\n",
       "2010-01-05       2288372.97\n",
       "...                     ...\n",
       "2020-07-27       1277209.22\n",
       "2020-07-28       5136111.36\n",
       "2020-07-29       1404346.94\n",
       "2020-07-30       7172597.38\n",
       "2020-07-31       1831300.41\n",
       "\n",
       "[3837 rows x 1 columns]"
      ]
     },
     "execution_count": 9,
     "metadata": {},
     "output_type": "execute_result"
    }
   ],
   "source": [
    "train_pivot = pd.pivot_table(train,values='TotalCashUsed',index='BusinessDate',aggfunc='sum')\n",
    "train_pivot"
   ]
  },
  {
   "cell_type": "code",
   "execution_count": 10,
   "metadata": {
    "execution": {
     "iopub.execute_input": "2021-01-22T21:59:31.932780Z",
     "iopub.status.busy": "2021-01-22T21:59:31.932106Z",
     "iopub.status.idle": "2021-01-22T21:59:32.218247Z",
     "shell.execute_reply": "2021-01-22T21:59:32.218758Z"
    },
    "papermill": {
     "duration": 0.33266,
     "end_time": "2021-01-22T21:59:32.218918",
     "exception": false,
     "start_time": "2021-01-22T21:59:31.886258",
     "status": "completed"
    },
    "tags": []
   },
   "outputs": [
    {
     "data": {
      "image/png": "[encoded data removed]",
      "text/plain": [
       "<Figure size 1440x576 with 1 Axes>"
      ]
     },
     "metadata": {
      "needs_background": "light"
     },
     "output_type": "display_data"
    }
   ],
   "source": [
    "plt.figure(figsize=(20,8))\n",
    "plt.plot(train_pivot);"
   ]
  },
  {
   "cell_type": "markdown",
   "metadata": {
    "papermill": {
     "duration": 0.04554,
     "end_time": "2021-01-22T21:59:32.309020",
     "exception": false,
     "start_time": "2021-01-22T21:59:32.263480",
     "status": "completed"
    },
    "tags": []
   },
   "source": [
    "Let us delete the events that have values more than 20000000 or less than -20000000 which look like outlier events across all years"
   ]
  },
  {
   "cell_type": "code",
   "execution_count": 11,
   "metadata": {
    "execution": {
     "iopub.execute_input": "2021-01-22T21:59:32.403268Z",
     "iopub.status.busy": "2021-01-22T21:59:32.402504Z",
     "iopub.status.idle": "2021-01-22T21:59:32.495581Z",
     "shell.execute_reply": "2021-01-22T21:59:32.494849Z"
    },
    "papermill": {
     "duration": 0.142434,
     "end_time": "2021-01-22T21:59:32.495720",
     "exception": false,
     "start_time": "2021-01-22T21:59:32.353286",
     "status": "completed"
    },
    "tags": []
   },
   "outputs": [
    {
     "ename": "NameError",
     "evalue": "name 'anomaly_df' is not defined",
     "output_type": "error",
     "traceback": [
      "\u001b[0;31m---------------------------------------------------------------------------\u001b[0m",
      "\u001b[0;31mNameError\u001b[0m                                 Traceback (most recent call last)",
      "\u001b[0;32m<ipython-input-11-4bbc65379327>\u001b[0m in \u001b[0;36m<module>\u001b[0;34m\u001b[0m\n\u001b[0;32m----> 1\u001b[0;31m \u001b[0manomaly_df\u001b[0m\u001b[0;34m\u001b[0m\u001b[0;34m\u001b[0m\u001b[0m\n\u001b[0m",
      "\u001b[0;31mNameError\u001b[0m: name 'anomaly_df' is not defined"
     ]
    }
   ],
   "source": [
    "anomaly_df"
   ]
  },
  {
   "cell_type": "code",
   "execution_count": 12,
   "metadata": {
    "execution": {
     "iopub.execute_input": "2021-01-22T21:59:32.597171Z",
     "iopub.status.busy": "2021-01-22T21:59:32.596416Z",
     "iopub.status.idle": "2021-01-22T21:59:32.663789Z",
     "shell.execute_reply": "2021-01-22T21:59:32.662991Z"
    },
    "papermill": {
     "duration": 0.122699,
     "end_time": "2021-01-22T21:59:32.664128",
     "exception": false,
     "start_time": "2021-01-22T21:59:32.541429",
     "status": "completed"
    },
    "tags": []
   },
   "outputs": [
    {
     "data": {
      "text/html": [
       "<div>\n",
       "<style scoped>\n",
       "    .dataframe tbody tr th:only-of-type {\n",
       "        vertical-align: middle;\n",
       "    }\n",
       "\n",
       "    .dataframe tbody tr th {\n",
       "        vertical-align: top;\n",
       "    }\n",
       "\n",
       "    .dataframe thead th {\n",
       "        text-align: right;\n",
       "    }\n",
       "</style>\n",
       "<table border=\"1\" class=\"dataframe\">\n",
       "  <thead>\n",
       "    <tr style=\"text-align: right;\">\n",
       "      <th></th>\n",
       "      <th>BusinessDate</th>\n",
       "      <th>BranchID</th>\n",
       "      <th>CashOrdersReceived</th>\n",
       "      <th>CashBalance_StartOfDay</th>\n",
       "      <th>TotalCashUsed</th>\n",
       "      <th>DayofWeek</th>\n",
       "      <th>Month</th>\n",
       "      <th>DayofMonth</th>\n",
       "      <th>MonthEnd</th>\n",
       "      <th>Holiday</th>\n",
       "    </tr>\n",
       "  </thead>\n",
       "  <tbody>\n",
       "    <tr>\n",
       "      <th>0</th>\n",
       "      <td>2020-07-31</td>\n",
       "      <td>99</td>\n",
       "      <td>-</td>\n",
       "      <td>775,054.00</td>\n",
       "      <td>-43718.13</td>\n",
       "      <td>4</td>\n",
       "      <td>7</td>\n",
       "      <td>31</td>\n",
       "      <td>1</td>\n",
       "      <td>0</td>\n",
       "    </tr>\n",
       "    <tr>\n",
       "      <th>1</th>\n",
       "      <td>2020-07-30</td>\n",
       "      <td>99</td>\n",
       "      <td>-</td>\n",
       "      <td>1,036,464.13</td>\n",
       "      <td>261410.14</td>\n",
       "      <td>3</td>\n",
       "      <td>7</td>\n",
       "      <td>30</td>\n",
       "      <td>0</td>\n",
       "      <td>0</td>\n",
       "    </tr>\n",
       "    <tr>\n",
       "      <th>2</th>\n",
       "      <td>2020-07-29</td>\n",
       "      <td>99</td>\n",
       "      <td>400,540.11</td>\n",
       "      <td>1,141,386.84</td>\n",
       "      <td>104922.70</td>\n",
       "      <td>2</td>\n",
       "      <td>7</td>\n",
       "      <td>29</td>\n",
       "      <td>0</td>\n",
       "      <td>0</td>\n",
       "    </tr>\n",
       "    <tr>\n",
       "      <th>3</th>\n",
       "      <td>2020-07-28</td>\n",
       "      <td>99</td>\n",
       "      <td>-</td>\n",
       "      <td>864,871.20</td>\n",
       "      <td>124024.48</td>\n",
       "      <td>1</td>\n",
       "      <td>7</td>\n",
       "      <td>28</td>\n",
       "      <td>0</td>\n",
       "      <td>0</td>\n",
       "    </tr>\n",
       "    <tr>\n",
       "      <th>4</th>\n",
       "      <td>2020-07-27</td>\n",
       "      <td>99</td>\n",
       "      <td>-</td>\n",
       "      <td>923,948.57</td>\n",
       "      <td>59077.37</td>\n",
       "      <td>0</td>\n",
       "      <td>7</td>\n",
       "      <td>27</td>\n",
       "      <td>0</td>\n",
       "      <td>0</td>\n",
       "    </tr>\n",
       "  </tbody>\n",
       "</table>\n",
       "</div>"
      ],
      "text/plain": [
       "  BusinessDate BranchID CashOrdersReceived CashBalance_StartOfDay  \\\n",
       "0   2020-07-31       99               -               775,054.00    \n",
       "1   2020-07-30       99               -             1,036,464.13    \n",
       "2   2020-07-29       99        400,540.11           1,141,386.84    \n",
       "3   2020-07-28       99               -               864,871.20    \n",
       "4   2020-07-27       99               -               923,948.57    \n",
       "\n",
       "   TotalCashUsed  DayofWeek  Month  DayofMonth  MonthEnd  Holiday  \n",
       "0      -43718.13          4      7          31         1        0  \n",
       "1      261410.14          3      7          30         0        0  \n",
       "2      104922.70          2      7          29         0        0  \n",
       "3      124024.48          1      7          28         0        0  \n",
       "4       59077.37          0      7          27         0        0  "
      ]
     },
     "execution_count": 12,
     "metadata": {},
     "output_type": "execute_result"
    }
   ],
   "source": [
    "anomaly_df = train_pivot.loc[(train_pivot['TotalCashUsed']>20000000) | (train_pivot['TotalCashUsed']<-20000000)]\n",
    "train['Drop'] = train['BusinessDate'].isin(anomaly_df.index).astype(int)\n",
    "train.drop(train[train['Drop'] == 1].index,inplace=True)\n",
    "train.drop(labels='Drop',axis=1,inplace=True)\n",
    "train.head()"
   ]
  },
  {
   "cell_type": "code",
   "execution_count": 13,
   "metadata": {
    "execution": {
     "iopub.execute_input": "2021-01-22T21:59:32.763661Z",
     "iopub.status.busy": "2021-01-22T21:59:32.762882Z",
     "iopub.status.idle": "2021-01-22T21:59:32.791085Z",
     "shell.execute_reply": "2021-01-22T21:59:32.791649Z"
    },
    "papermill": {
     "duration": 0.081866,
     "end_time": "2021-01-22T21:59:32.791828",
     "exception": false,
     "start_time": "2021-01-22T21:59:32.709962",
     "status": "completed"
    },
    "tags": []
   },
   "outputs": [],
   "source": [
    "#Rule1: Saturdays on holidays\n",
    "train.loc[(train.Holiday == 1) & (train.DayofWeek == 5) ,'TotalCashUsed'] = 0\n",
    "\n",
    "#Rule2: Saturdays except for on month ends\n",
    "train.loc[(train.DayofWeek == 5) & (~train.BusinessDate.dt.day.isin([29,30,31])) , 'TotalCashUsed'] = 0\n",
    "\n"
   ]
  },
  {
   "cell_type": "code",
   "execution_count": 14,
   "metadata": {
    "execution": {
     "iopub.execute_input": "2021-01-22T21:59:32.909432Z",
     "iopub.status.busy": "2021-01-22T21:59:32.893229Z",
     "iopub.status.idle": "2021-01-22T21:59:33.011040Z",
     "shell.execute_reply": "2021-01-22T21:59:33.011587Z"
    },
    "papermill": {
     "duration": 0.174286,
     "end_time": "2021-01-22T21:59:33.011767",
     "exception": false,
     "start_time": "2021-01-22T21:59:32.837481",
     "status": "completed"
    },
    "tags": []
   },
   "outputs": [],
   "source": [
    "#Creating branch averages and assigning classes based on cumulative percentages\n",
    "\n",
    "branch_avg = train.pivot_table(values='TotalCashUsed',index='BranchID',aggfunc='mean')\n",
    "branch_avg.sort_values(by='TotalCashUsed',ascending=False,inplace=True)\n",
    "branch_avg['cum_sum'] = 100*branch_avg['TotalCashUsed']/branch_avg['TotalCashUsed'].sum()\n",
    "branch_cat = pd.cut(branch_avg['cum_sum'],3, labels=[\"small\", \"medium\", \"large\"])\n",
    "\n",
    "bcd = branch_cat.to_dict()\n",
    "def assign_class(branch_id):\n",
    "    return bcd.get(branch_id)\n",
    "\n",
    "train['Branch_Cat'] = pd.Series(train['BranchID'].apply(lambda row: assign_class(row)))"
   ]
  },
  {
   "cell_type": "code",
   "execution_count": 15,
   "metadata": {
    "execution": {
     "iopub.execute_input": "2021-01-22T21:59:33.115726Z",
     "iopub.status.busy": "2021-01-22T21:59:33.114935Z",
     "iopub.status.idle": "2021-01-22T21:59:33.120650Z",
     "shell.execute_reply": "2021-01-22T21:59:33.121183Z"
    },
    "papermill": {
     "duration": 0.061287,
     "end_time": "2021-01-22T21:59:33.121343",
     "exception": false,
     "start_time": "2021-01-22T21:59:33.060056",
     "status": "completed"
    },
    "tags": []
   },
   "outputs": [
    {
     "data": {
      "text/plain": [
       "BranchID\n",
       "270     large\n",
       "382     large\n",
       "433     large\n",
       "469     large\n",
       "203     large\n",
       "289    medium\n",
       "154    medium\n",
       "336    medium\n",
       "501    medium\n",
       "325    medium\n",
       "434    medium\n",
       "155    medium\n",
       "108    medium\n",
       "125    medium\n",
       "415    medium\n",
       "362    medium\n",
       "118     small\n",
       "111     small\n",
       "99      small\n",
       "196     small\n",
       "323     small\n",
       "133     small\n",
       "115     small\n",
       "370     small\n",
       "317     small\n",
       "144     small\n",
       "334     small\n",
       "110     small\n",
       "217     small\n",
       "169     small\n",
       "131     small\n",
       "230     small\n",
       "425     small\n",
       "356     small\n",
       "273     small\n",
       "140     small\n",
       "177     small\n",
       "441     small\n",
       "344     small\n",
       "367     small\n",
       "319     small\n",
       "126     small\n",
       "364     small\n",
       "151     small\n",
       "290     small\n",
       "333     small\n",
       "267     small\n",
       "398     small\n",
       "458     small\n",
       "Name: cum_sum, dtype: category\n",
       "Categories (3, object): ['small' < 'medium' < 'large']"
      ]
     },
     "execution_count": 15,
     "metadata": {},
     "output_type": "execute_result"
    }
   ],
   "source": [
    "branch_cat"
   ]
  },
  {
   "cell_type": "markdown",
   "metadata": {
    "papermill": {
     "duration": 0.04623,
     "end_time": "2021-01-22T21:59:33.214810",
     "exception": false,
     "start_time": "2021-01-22T21:59:33.168580",
     "status": "completed"
    },
    "tags": []
   },
   "source": [
    "## 4. Pre-processing"
   ]
  },
  {
   "cell_type": "code",
   "execution_count": 16,
   "metadata": {
    "execution": {
     "iopub.execute_input": "2021-01-22T21:59:33.328345Z",
     "iopub.status.busy": "2021-01-22T21:59:33.327669Z",
     "iopub.status.idle": "2021-01-22T21:59:34.564000Z",
     "shell.execute_reply": "2021-01-22T21:59:34.564594Z"
    },
    "papermill": {
     "duration": 1.303349,
     "end_time": "2021-01-22T21:59:34.564751",
     "exception": false,
     "start_time": "2021-01-22T21:59:33.261402",
     "status": "completed"
    },
    "tags": []
   },
   "outputs": [],
   "source": [
    "train['BusinessDate'] = pd.to_datetime(train['BusinessDate'])\n",
    "train['BusinessDate'] = train['BusinessDate'].map(dt.toordinal)"
   ]
  },
  {
   "cell_type": "code",
   "execution_count": 17,
   "metadata": {
    "execution": {
     "iopub.execute_input": "2021-01-22T21:59:34.664559Z",
     "iopub.status.busy": "2021-01-22T21:59:34.663498Z",
     "iopub.status.idle": "2021-01-22T21:59:34.667954Z",
     "shell.execute_reply": "2021-01-22T21:59:34.668616Z"
    },
    "papermill": {
     "duration": 0.057209,
     "end_time": "2021-01-22T21:59:34.668764",
     "exception": false,
     "start_time": "2021-01-22T21:59:34.611555",
     "status": "completed"
    },
    "tags": []
   },
   "outputs": [
    {
     "data": {
      "text/plain": [
       "Index(['BusinessDate', 'BranchID', 'CashOrdersReceived',\n",
       "       'CashBalance_StartOfDay', 'TotalCashUsed', 'DayofWeek', 'Month',\n",
       "       'DayofMonth', 'MonthEnd', 'Holiday', 'Branch_Cat'],\n",
       "      dtype='object')"
      ]
     },
     "execution_count": 17,
     "metadata": {},
     "output_type": "execute_result"
    }
   ],
   "source": [
    "train.columns"
   ]
  },
  {
   "cell_type": "code",
   "execution_count": 18,
   "metadata": {
    "execution": {
     "iopub.execute_input": "2021-01-22T21:59:34.772068Z",
     "iopub.status.busy": "2021-01-22T21:59:34.771360Z",
     "iopub.status.idle": "2021-01-22T21:59:34.873466Z",
     "shell.execute_reply": "2021-01-22T21:59:34.872703Z"
    },
    "papermill": {
     "duration": 0.156324,
     "end_time": "2021-01-22T21:59:34.873610",
     "exception": false,
     "start_time": "2021-01-22T21:59:34.717286",
     "status": "completed"
    },
    "tags": []
   },
   "outputs": [],
   "source": [
    "X = train.drop(['CashOrdersReceived','CashBalance_StartOfDay','TotalCashUsed'],axis=1)\n",
    "X = pd.get_dummies(X,drop_first=True)\n",
    "y = train['TotalCashUsed']"
   ]
  },
  {
   "cell_type": "code",
   "execution_count": 19,
   "metadata": {
    "execution": {
     "iopub.execute_input": "2021-01-22T21:59:34.976350Z",
     "iopub.status.busy": "2021-01-22T21:59:34.975294Z",
     "iopub.status.idle": "2021-01-22T21:59:34.978347Z",
     "shell.execute_reply": "2021-01-22T21:59:34.978858Z"
    },
    "papermill": {
     "duration": 0.057219,
     "end_time": "2021-01-22T21:59:34.979026",
     "exception": false,
     "start_time": "2021-01-22T21:59:34.921807",
     "status": "completed"
    },
    "tags": []
   },
   "outputs": [],
   "source": [
    "# train.to_csv('/kaggle/working/preprocessed_train.csv',index=None)"
   ]
  },
  {
   "cell_type": "code",
   "execution_count": 20,
   "metadata": {
    "execution": {
     "iopub.execute_input": "2021-01-22T21:59:35.088624Z",
     "iopub.status.busy": "2021-01-22T21:59:35.086733Z",
     "iopub.status.idle": "2021-01-22T21:59:35.129806Z",
     "shell.execute_reply": "2021-01-22T21:59:35.129099Z"
    },
    "papermill": {
     "duration": 0.103014,
     "end_time": "2021-01-22T21:59:35.129921",
     "exception": false,
     "start_time": "2021-01-22T21:59:35.026907",
     "status": "completed"
    },
    "tags": []
   },
   "outputs": [],
   "source": [
    "X_train, X_val, y_train, y_val = train_test_split(X,y,test_size=0.2,random_state=2021)"
   ]
  },
  {
   "cell_type": "markdown",
   "metadata": {
    "papermill": {
     "duration": 0.046512,
     "end_time": "2021-01-22T21:59:35.224252",
     "exception": false,
     "start_time": "2021-01-22T21:59:35.177740",
     "status": "completed"
    },
    "tags": []
   },
   "source": [
    "## 5. Model execution and evaluation"
   ]
  },
  {
   "cell_type": "code",
   "execution_count": 21,
   "metadata": {
    "execution": {
     "iopub.execute_input": "2021-01-22T21:59:35.324534Z",
     "iopub.status.busy": "2021-01-22T21:59:35.323843Z",
     "iopub.status.idle": "2021-01-22T21:59:36.813183Z",
     "shell.execute_reply": "2021-01-22T21:59:36.812617Z"
    },
    "papermill": {
     "duration": 1.541487,
     "end_time": "2021-01-22T21:59:36.813317",
     "exception": false,
     "start_time": "2021-01-22T21:59:35.271830",
     "status": "completed"
    },
    "tags": []
   },
   "outputs": [
    {
     "data": {
      "text/html": [
       "<style type='text/css'>\n",
       ".datatable table.frame { margin-bottom: 0; }\n",
       ".datatable table.frame thead { border-bottom: none; }\n",
       ".datatable table.frame tr.coltypes td {  color: #FFFFFF;  line-height: 6px;  padding: 0 0.5em;}\n",
       ".datatable .bool    { background: #DDDD99; }\n",
       ".datatable .object  { background: #565656; }\n",
       ".datatable .int     { background: #5D9E5D; }\n",
       ".datatable .float   { background: #4040CC; }\n",
       ".datatable .str     { background: #CC4040; }\n",
       ".datatable .row_index {  background: var(--jp-border-color3);  border-right: 1px solid var(--jp-border-color0);  color: var(--jp-ui-font-color3);  font-size: 9px;}\n",
       ".datatable .frame tr.coltypes .row_index {  background: var(--jp-border-color0);}\n",
       ".datatable th:nth-child(2) { padding-left: 12px; }\n",
       ".datatable .hellipsis {  color: var(--jp-cell-editor-border-color);}\n",
       ".datatable .vellipsis {  background: var(--jp-layout-color0);  color: var(--jp-cell-editor-border-color);}\n",
       ".datatable .na {  color: var(--jp-cell-editor-border-color);  font-size: 80%;}\n",
       ".datatable .footer { font-size: 9px; }\n",
       ".datatable .frame_dimensions {  background: var(--jp-border-color3);  border-top: 1px solid var(--jp-border-color0);  color: var(--jp-ui-font-color3);  display: inline-block;  opacity: 0.6;  padding: 1px 10px 1px 5px;}\n",
       "</style>\n"
      ],
      "text/plain": [
       "<IPython.core.display.HTML object>"
      ]
     },
     "metadata": {},
     "output_type": "display_data"
    }
   ],
   "source": [
    "from sklearn.linear_model import LinearRegression\n",
    "from sklearn.ensemble import RandomForestRegressor\n",
    "from xgboost import XGBRegressor\n",
    "from catboost import CatBoostRegressor\n",
    "from lightgbm import LGBMRegressor"
   ]
  },
  {
   "cell_type": "code",
   "execution_count": 22,
   "metadata": {
    "execution": {
     "iopub.execute_input": "2021-01-22T21:59:36.928253Z",
     "iopub.status.busy": "2021-01-22T21:59:36.921229Z",
     "iopub.status.idle": "2021-01-22T21:59:37.244388Z",
     "shell.execute_reply": "2021-01-22T21:59:37.243648Z"
    },
    "papermill": {
     "duration": 0.380622,
     "end_time": "2021-01-22T21:59:37.244550",
     "exception": false,
     "start_time": "2021-01-22T21:59:36.863928",
     "status": "completed"
    },
    "tags": []
   },
   "outputs": [],
   "source": [
    "import timeit\n",
    "start_time = timeit.default_timer()\n",
    "lr = LinearRegression()\n",
    "lr.fit(X_train,y_train)\n",
    "lr_pred = lr.predict(X_val)\n",
    "lr_smape = round(smape(y_val,lr_pred),2)\n",
    "elapsed = timeit.default_timer() - start_time\n",
    "model_comparison = pd.DataFrame(lr_smape,columns=['SMAPE'],index=['Linear Regression'])\n",
    "model_comparison['Runtime (in secs)'] = round(elapsed,2)"
   ]
  },
  {
   "cell_type": "code",
   "execution_count": 23,
   "metadata": {
    "execution": {
     "iopub.execute_input": "2021-01-22T21:59:37.349712Z",
     "iopub.status.busy": "2021-01-22T21:59:37.348945Z",
     "iopub.status.idle": "2021-01-22T21:59:37.353286Z",
     "shell.execute_reply": "2021-01-22T21:59:37.352616Z"
    },
    "papermill": {
     "duration": 0.057841,
     "end_time": "2021-01-22T21:59:37.353403",
     "exception": false,
     "start_time": "2021-01-22T21:59:37.295562",
     "status": "completed"
    },
    "tags": []
   },
   "outputs": [],
   "source": [
    "# start_time = timeit.default_timer()\n",
    "# rf = RandomForestRegressor()\n",
    "# rf.fit(X_train,y_train)\n",
    "# rf_pred = rf.predict(X_val)\n",
    "# rf_smape = smape(y_val,rf_pred)\n",
    "# elapsed = timeit.default_timer() - start_time\n",
    "# model_comparison.loc['Random Forest Regression'] = rf_smape\n",
    "# model_comparison['Runtime (in secs)'].loc['Random Forest Regression'] = elapsed"
   ]
  },
  {
   "cell_type": "code",
   "execution_count": 24,
   "metadata": {
    "execution": {
     "iopub.execute_input": "2021-01-22T21:59:37.462044Z",
     "iopub.status.busy": "2021-01-22T21:59:37.461300Z",
     "iopub.status.idle": "2021-01-22T21:59:53.922788Z",
     "shell.execute_reply": "2021-01-22T21:59:53.923554Z"
    },
    "papermill": {
     "duration": 16.519498,
     "end_time": "2021-01-22T21:59:53.923757",
     "exception": false,
     "start_time": "2021-01-22T21:59:37.404259",
     "status": "completed"
    },
    "tags": []
   },
   "outputs": [],
   "source": [
    "start_time = timeit.default_timer()\n",
    "xgbr = XGBRegressor(random_state=2021)\n",
    "xgbr.fit(X_train,y_train)\n",
    "xgbr_pred = xgbr.predict(X_val)\n",
    "xgbr_smape = round(smape(y_val,xgbr_pred),2)\n",
    "elapsed = timeit.default_timer() - start_time\n",
    "model_comparison.loc['XG Boost Regressor'] = xgbr_smape\n",
    "model_comparison['Runtime (in secs)'].loc['XG Boost Regressor'] = round(elapsed,2)"
   ]
  },
  {
   "cell_type": "code",
   "execution_count": 25,
   "metadata": {
    "execution": {
     "iopub.execute_input": "2021-01-22T21:59:54.085689Z",
     "iopub.status.busy": "2021-01-22T21:59:54.084790Z",
     "iopub.status.idle": "2021-01-22T22:00:10.686852Z",
     "shell.execute_reply": "2021-01-22T22:00:10.685844Z"
    },
    "papermill": {
     "duration": 16.682101,
     "end_time": "2021-01-22T22:00:10.686982",
     "exception": false,
     "start_time": "2021-01-22T21:59:54.004881",
     "status": "completed"
    },
    "tags": []
   },
   "outputs": [],
   "source": [
    "start_time = timeit.default_timer()\n",
    "catbr = CatBoostRegressor(random_state=2021,silent=True)\n",
    "catbr.fit(X_train,y_train)\n",
    "catbr_pred = catbr.predict(X_val)\n",
    "catbr_smape = round(smape(y_val,catbr_pred),2)\n",
    "elapsed = timeit.default_timer() - start_time\n",
    "model_comparison.loc['Cat Boost Regressor'] = catbr_smape\n",
    "model_comparison['Runtime (in secs)'].loc['Cat Boost Regressor'] = round(elapsed,2)"
   ]
  },
  {
   "cell_type": "code",
   "execution_count": 26,
   "metadata": {
    "execution": {
     "iopub.execute_input": "2021-01-22T22:00:10.792309Z",
     "iopub.status.busy": "2021-01-22T22:00:10.791352Z",
     "iopub.status.idle": "2021-01-22T22:00:12.641719Z",
     "shell.execute_reply": "2021-01-22T22:00:12.642445Z"
    },
    "papermill": {
     "duration": 1.905387,
     "end_time": "2021-01-22T22:00:12.642652",
     "exception": false,
     "start_time": "2021-01-22T22:00:10.737265",
     "status": "completed"
    },
    "tags": []
   },
   "outputs": [],
   "source": [
    "start_time = timeit.default_timer()\n",
    "lgbm = LGBMRegressor(random_state=2021)\n",
    "lgbm.fit(X_train,y_train)\n",
    "lgbm_pred = lgbm.predict(X_val)\n",
    "elapsed = timeit.default_timer() - start_time\n",
    "lgbm_smape = round(smape(y_val,lgbm_pred),2)\n",
    "model_comparison.loc['LGBM Regressor'] = lgbm_smape\n",
    "model_comparison['Runtime (in secs)'].loc['LGBM Regressor'] = round(elapsed,2)"
   ]
  },
  {
   "cell_type": "code",
   "execution_count": 27,
   "metadata": {
    "execution": {
     "iopub.execute_input": "2021-01-22T22:00:12.787349Z",
     "iopub.status.busy": "2021-01-22T22:00:12.786353Z",
     "iopub.status.idle": "2021-01-22T22:00:12.790897Z",
     "shell.execute_reply": "2021-01-22T22:00:12.791583Z"
    },
    "papermill": {
     "duration": 0.082739,
     "end_time": "2021-01-22T22:00:12.791779",
     "exception": false,
     "start_time": "2021-01-22T22:00:12.709040",
     "status": "completed"
    },
    "tags": []
   },
   "outputs": [
    {
     "data": {
      "text/html": [
       "<div>\n",
       "<style scoped>\n",
       "    .dataframe tbody tr th:only-of-type {\n",
       "        vertical-align: middle;\n",
       "    }\n",
       "\n",
       "    .dataframe tbody tr th {\n",
       "        vertical-align: top;\n",
       "    }\n",
       "\n",
       "    .dataframe thead th {\n",
       "        text-align: right;\n",
       "    }\n",
       "</style>\n",
       "<table border=\"1\" class=\"dataframe\">\n",
       "  <thead>\n",
       "    <tr style=\"text-align: right;\">\n",
       "      <th></th>\n",
       "      <th>SMAPE</th>\n",
       "      <th>Runtime (in secs)</th>\n",
       "    </tr>\n",
       "  </thead>\n",
       "  <tbody>\n",
       "    <tr>\n",
       "      <th>Linear Regression</th>\n",
       "      <td>115.07</td>\n",
       "      <td>0.31</td>\n",
       "    </tr>\n",
       "    <tr>\n",
       "      <th>XG Boost Regressor</th>\n",
       "      <td>101.54</td>\n",
       "      <td>16.44</td>\n",
       "    </tr>\n",
       "    <tr>\n",
       "      <th>Cat Boost Regressor</th>\n",
       "      <td>101.98</td>\n",
       "      <td>16.60</td>\n",
       "    </tr>\n",
       "    <tr>\n",
       "      <th>LGBM Regressor</th>\n",
       "      <td>101.64</td>\n",
       "      <td>1.84</td>\n",
       "    </tr>\n",
       "  </tbody>\n",
       "</table>\n",
       "</div>"
      ],
      "text/plain": [
       "                      SMAPE  Runtime (in secs)\n",
       "Linear Regression    115.07               0.31\n",
       "XG Boost Regressor   101.54              16.44\n",
       "Cat Boost Regressor  101.98              16.60\n",
       "LGBM Regressor       101.64               1.84"
      ]
     },
     "execution_count": 27,
     "metadata": {},
     "output_type": "execute_result"
    }
   ],
   "source": [
    "model_comparison"
   ]
  },
  {
   "cell_type": "markdown",
   "metadata": {
    "papermill": {
     "duration": 0.049362,
     "end_time": "2021-01-22T22:00:12.902655",
     "exception": false,
     "start_time": "2021-01-22T22:00:12.853293",
     "status": "completed"
    },
    "tags": []
   },
   "source": [
    "## 6. Hyperparameter tuning for LGBM"
   ]
  },
  {
   "cell_type": "code",
   "execution_count": 28,
   "metadata": {
    "execution": {
     "iopub.execute_input": "2021-01-22T22:00:13.010801Z",
     "iopub.status.busy": "2021-01-22T22:00:13.009842Z",
     "iopub.status.idle": "2021-01-22T22:00:13.014203Z",
     "shell.execute_reply": "2021-01-22T22:00:13.013535Z"
    },
    "papermill": {
     "duration": 0.061329,
     "end_time": "2021-01-22T22:00:13.014331",
     "exception": false,
     "start_time": "2021-01-22T22:00:12.953002",
     "status": "completed"
    },
    "tags": []
   },
   "outputs": [],
   "source": [
    "# from sklearn.metrics import make_scorer\n",
    "\n",
    "# parameters = {'learning_rate':[0.1,0.01,1.0],\n",
    "#          'num_leaves': [20,35,50,75,100],\n",
    "#          'max_depth':[-1,-0.1,1]}\n",
    "# my_scorer = make_scorer(smape, greater_is_better=False)\n",
    "# lgbm_grid = GridSearchCV(estimator=LGBMRegressor(random_state=2021),param_grid=parameters,scoring=my_scorer,cv=3,verbose=1)\n",
    "# lgbm_grid.fit(X,y)"
   ]
  },
  {
   "cell_type": "code",
   "execution_count": 29,
   "metadata": {
    "execution": {
     "iopub.execute_input": "2021-01-22T22:00:13.120702Z",
     "iopub.status.busy": "2021-01-22T22:00:13.119639Z",
     "iopub.status.idle": "2021-01-22T22:00:13.123989Z",
     "shell.execute_reply": "2021-01-22T22:00:13.123253Z"
    },
    "papermill": {
     "duration": 0.059793,
     "end_time": "2021-01-22T22:00:13.124127",
     "exception": false,
     "start_time": "2021-01-22T22:00:13.064334",
     "status": "completed"
    },
    "tags": []
   },
   "outputs": [],
   "source": [
    "# lgbm_grid.best_params_"
   ]
  },
  {
   "cell_type": "code",
   "execution_count": 30,
   "metadata": {
    "execution": {
     "iopub.execute_input": "2021-01-22T22:00:13.236884Z",
     "iopub.status.busy": "2021-01-22T22:00:13.235819Z",
     "iopub.status.idle": "2021-01-22T22:00:13.239639Z",
     "shell.execute_reply": "2021-01-22T22:00:13.238978Z"
    },
    "papermill": {
     "duration": 0.061541,
     "end_time": "2021-01-22T22:00:13.239766",
     "exception": false,
     "start_time": "2021-01-22T22:00:13.178225",
     "status": "completed"
    },
    "tags": []
   },
   "outputs": [],
   "source": [
    "# lgbmgridpred = lgbm_grid.predict(X_val)\n",
    "# print(mean_absolute_error(y_val,lgbmgridpred))\n",
    "# print(np.sqrt(mean_squared_error(y_val,lgbmgridpred)))\n",
    "# print(smape(y_val,lgbmgridpred))"
   ]
  },
  {
   "cell_type": "code",
   "execution_count": 31,
   "metadata": {
    "execution": {
     "iopub.execute_input": "2021-01-22T22:00:13.352046Z",
     "iopub.status.busy": "2021-01-22T22:00:13.350452Z",
     "iopub.status.idle": "2021-01-22T22:00:14.642467Z",
     "shell.execute_reply": "2021-01-22T22:00:14.643799Z"
    },
    "papermill": {
     "duration": 1.352299,
     "end_time": "2021-01-22T22:00:14.644006",
     "exception": false,
     "start_time": "2021-01-22T22:00:13.291707",
     "status": "completed"
    },
    "tags": []
   },
   "outputs": [
    {
     "data": {
      "text/plain": [
       "LGBMRegressor(learning_rate=0.01, num_leaves=50, random_state=2021)"
      ]
     },
     "execution_count": 31,
     "metadata": {},
     "output_type": "execute_result"
    }
   ],
   "source": [
    "final_model = LGBMRegressor(random_state=2021,learning_rate=0.01,max_depth=-1,num_leaves=50)\n",
    "final_model.fit(X,y)"
   ]
  },
  {
   "cell_type": "code",
   "execution_count": 32,
   "metadata": {
    "execution": {
     "iopub.execute_input": "2021-01-22T22:00:14.810623Z",
     "iopub.status.busy": "2021-01-22T22:00:14.791862Z",
     "iopub.status.idle": "2021-01-22T22:00:14.816399Z",
     "shell.execute_reply": "2021-01-22T22:00:14.817211Z"
    },
    "papermill": {
     "duration": 0.105608,
     "end_time": "2021-01-22T22:00:14.817416",
     "exception": false,
     "start_time": "2021-01-22T22:00:14.711808",
     "status": "completed"
    },
    "tags": []
   },
   "outputs": [
    {
     "data": {
      "text/html": [
       "<div>\n",
       "<style scoped>\n",
       "    .dataframe tbody tr th:only-of-type {\n",
       "        vertical-align: middle;\n",
       "    }\n",
       "\n",
       "    .dataframe tbody tr th {\n",
       "        vertical-align: top;\n",
       "    }\n",
       "\n",
       "    .dataframe thead th {\n",
       "        text-align: right;\n",
       "    }\n",
       "</style>\n",
       "<table border=\"1\" class=\"dataframe\">\n",
       "  <thead>\n",
       "    <tr style=\"text-align: right;\">\n",
       "      <th></th>\n",
       "      <th>Variable importance</th>\n",
       "      <th>Percent Importance</th>\n",
       "    </tr>\n",
       "  </thead>\n",
       "  <tbody>\n",
       "    <tr>\n",
       "      <th>DayofWeek</th>\n",
       "      <td>1080</td>\n",
       "      <td>22.04</td>\n",
       "    </tr>\n",
       "    <tr>\n",
       "      <th>DayofMonth</th>\n",
       "      <td>734</td>\n",
       "      <td>14.98</td>\n",
       "    </tr>\n",
       "    <tr>\n",
       "      <th>BusinessDate</th>\n",
       "      <td>429</td>\n",
       "      <td>8.76</td>\n",
       "    </tr>\n",
       "    <tr>\n",
       "      <th>Branch_Cat_medium</th>\n",
       "      <td>256</td>\n",
       "      <td>5.22</td>\n",
       "    </tr>\n",
       "    <tr>\n",
       "      <th>Holiday</th>\n",
       "      <td>181</td>\n",
       "      <td>3.69</td>\n",
       "    </tr>\n",
       "    <tr>\n",
       "      <th>MonthEnd</th>\n",
       "      <td>174</td>\n",
       "      <td>3.55</td>\n",
       "    </tr>\n",
       "    <tr>\n",
       "      <th>BranchID_323</th>\n",
       "      <td>159</td>\n",
       "      <td>3.24</td>\n",
       "    </tr>\n",
       "    <tr>\n",
       "      <th>BranchID_118</th>\n",
       "      <td>154</td>\n",
       "      <td>3.14</td>\n",
       "    </tr>\n",
       "    <tr>\n",
       "      <th>BranchID_270</th>\n",
       "      <td>152</td>\n",
       "      <td>3.10</td>\n",
       "    </tr>\n",
       "    <tr>\n",
       "      <th>BranchID_433</th>\n",
       "      <td>146</td>\n",
       "      <td>2.98</td>\n",
       "    </tr>\n",
       "    <tr>\n",
       "      <th>BranchID_111</th>\n",
       "      <td>145</td>\n",
       "      <td>2.96</td>\n",
       "    </tr>\n",
       "    <tr>\n",
       "      <th>BranchID_370</th>\n",
       "      <td>130</td>\n",
       "      <td>2.65</td>\n",
       "    </tr>\n",
       "    <tr>\n",
       "      <th>BranchID_99</th>\n",
       "      <td>112</td>\n",
       "      <td>2.29</td>\n",
       "    </tr>\n",
       "    <tr>\n",
       "      <th>BranchID_154</th>\n",
       "      <td>101</td>\n",
       "      <td>2.06</td>\n",
       "    </tr>\n",
       "    <tr>\n",
       "      <th>Branch_Cat_small</th>\n",
       "      <td>100</td>\n",
       "      <td>2.04</td>\n",
       "    </tr>\n",
       "    <tr>\n",
       "      <th>BranchID_110</th>\n",
       "      <td>93</td>\n",
       "      <td>1.90</td>\n",
       "    </tr>\n",
       "    <tr>\n",
       "      <th>BranchID_196</th>\n",
       "      <td>83</td>\n",
       "      <td>1.69</td>\n",
       "    </tr>\n",
       "    <tr>\n",
       "      <th>BranchID_133</th>\n",
       "      <td>83</td>\n",
       "      <td>1.69</td>\n",
       "    </tr>\n",
       "    <tr>\n",
       "      <th>BranchID_115</th>\n",
       "      <td>71</td>\n",
       "      <td>1.45</td>\n",
       "    </tr>\n",
       "    <tr>\n",
       "      <th>Month</th>\n",
       "      <td>60</td>\n",
       "      <td>1.22</td>\n",
       "    </tr>\n",
       "    <tr>\n",
       "      <th>BranchID_289</th>\n",
       "      <td>59</td>\n",
       "      <td>1.20</td>\n",
       "    </tr>\n",
       "    <tr>\n",
       "      <th>BranchID_334</th>\n",
       "      <td>57</td>\n",
       "      <td>1.16</td>\n",
       "    </tr>\n",
       "    <tr>\n",
       "      <th>BranchID_367</th>\n",
       "      <td>51</td>\n",
       "      <td>1.04</td>\n",
       "    </tr>\n",
       "    <tr>\n",
       "      <th>BranchID_317</th>\n",
       "      <td>44</td>\n",
       "      <td>0.90</td>\n",
       "    </tr>\n",
       "    <tr>\n",
       "      <th>BranchID_469</th>\n",
       "      <td>39</td>\n",
       "      <td>0.80</td>\n",
       "    </tr>\n",
       "    <tr>\n",
       "      <th>BranchID_325</th>\n",
       "      <td>34</td>\n",
       "      <td>0.69</td>\n",
       "    </tr>\n",
       "    <tr>\n",
       "      <th>BranchID_267</th>\n",
       "      <td>33</td>\n",
       "      <td>0.67</td>\n",
       "    </tr>\n",
       "    <tr>\n",
       "      <th>BranchID_144</th>\n",
       "      <td>28</td>\n",
       "      <td>0.57</td>\n",
       "    </tr>\n",
       "    <tr>\n",
       "      <th>BranchID_344</th>\n",
       "      <td>28</td>\n",
       "      <td>0.57</td>\n",
       "    </tr>\n",
       "    <tr>\n",
       "      <th>BranchID_458</th>\n",
       "      <td>27</td>\n",
       "      <td>0.55</td>\n",
       "    </tr>\n",
       "    <tr>\n",
       "      <th>BranchID_290</th>\n",
       "      <td>19</td>\n",
       "      <td>0.39</td>\n",
       "    </tr>\n",
       "    <tr>\n",
       "      <th>BranchID_203</th>\n",
       "      <td>15</td>\n",
       "      <td>0.31</td>\n",
       "    </tr>\n",
       "    <tr>\n",
       "      <th>BranchID_126</th>\n",
       "      <td>9</td>\n",
       "      <td>0.18</td>\n",
       "    </tr>\n",
       "    <tr>\n",
       "      <th>BranchID_319</th>\n",
       "      <td>8</td>\n",
       "      <td>0.16</td>\n",
       "    </tr>\n",
       "    <tr>\n",
       "      <th>BranchID_364</th>\n",
       "      <td>6</td>\n",
       "      <td>0.12</td>\n",
       "    </tr>\n",
       "    <tr>\n",
       "      <th>BranchID_415</th>\n",
       "      <td>0</td>\n",
       "      <td>0.00</td>\n",
       "    </tr>\n",
       "    <tr>\n",
       "      <th>BranchID_140</th>\n",
       "      <td>0</td>\n",
       "      <td>0.00</td>\n",
       "    </tr>\n",
       "    <tr>\n",
       "      <th>BranchID_155</th>\n",
       "      <td>0</td>\n",
       "      <td>0.00</td>\n",
       "    </tr>\n",
       "    <tr>\n",
       "      <th>BranchID_501</th>\n",
       "      <td>0</td>\n",
       "      <td>0.00</td>\n",
       "    </tr>\n",
       "    <tr>\n",
       "      <th>BranchID_230</th>\n",
       "      <td>0</td>\n",
       "      <td>0.00</td>\n",
       "    </tr>\n",
       "    <tr>\n",
       "      <th>BranchID_177</th>\n",
       "      <td>0</td>\n",
       "      <td>0.00</td>\n",
       "    </tr>\n",
       "    <tr>\n",
       "      <th>BranchID_441</th>\n",
       "      <td>0</td>\n",
       "      <td>0.00</td>\n",
       "    </tr>\n",
       "    <tr>\n",
       "      <th>BranchID_434</th>\n",
       "      <td>0</td>\n",
       "      <td>0.00</td>\n",
       "    </tr>\n",
       "    <tr>\n",
       "      <th>BranchID_169</th>\n",
       "      <td>0</td>\n",
       "      <td>0.00</td>\n",
       "    </tr>\n",
       "    <tr>\n",
       "      <th>BranchID_425</th>\n",
       "      <td>0</td>\n",
       "      <td>0.00</td>\n",
       "    </tr>\n",
       "    <tr>\n",
       "      <th>BranchID_398</th>\n",
       "      <td>0</td>\n",
       "      <td>0.00</td>\n",
       "    </tr>\n",
       "    <tr>\n",
       "      <th>BranchID_382</th>\n",
       "      <td>0</td>\n",
       "      <td>0.00</td>\n",
       "    </tr>\n",
       "    <tr>\n",
       "      <th>BranchID_125</th>\n",
       "      <td>0</td>\n",
       "      <td>0.00</td>\n",
       "    </tr>\n",
       "    <tr>\n",
       "      <th>BranchID_273</th>\n",
       "      <td>0</td>\n",
       "      <td>0.00</td>\n",
       "    </tr>\n",
       "    <tr>\n",
       "      <th>BranchID_217</th>\n",
       "      <td>0</td>\n",
       "      <td>0.00</td>\n",
       "    </tr>\n",
       "    <tr>\n",
       "      <th>BranchID_356</th>\n",
       "      <td>0</td>\n",
       "      <td>0.00</td>\n",
       "    </tr>\n",
       "    <tr>\n",
       "      <th>BranchID_131</th>\n",
       "      <td>0</td>\n",
       "      <td>0.00</td>\n",
       "    </tr>\n",
       "    <tr>\n",
       "      <th>BranchID_336</th>\n",
       "      <td>0</td>\n",
       "      <td>0.00</td>\n",
       "    </tr>\n",
       "    <tr>\n",
       "      <th>BranchID_151</th>\n",
       "      <td>0</td>\n",
       "      <td>0.00</td>\n",
       "    </tr>\n",
       "    <tr>\n",
       "      <th>BranchID_333</th>\n",
       "      <td>0</td>\n",
       "      <td>0.00</td>\n",
       "    </tr>\n",
       "    <tr>\n",
       "      <th>BranchID_362</th>\n",
       "      <td>0</td>\n",
       "      <td>0.00</td>\n",
       "    </tr>\n",
       "  </tbody>\n",
       "</table>\n",
       "</div>"
      ],
      "text/plain": [
       "                   Variable importance  Percent Importance\n",
       "DayofWeek                         1080               22.04\n",
       "DayofMonth                         734               14.98\n",
       "BusinessDate                       429                8.76\n",
       "Branch_Cat_medium                  256                5.22\n",
       "Holiday                            181                3.69\n",
       "MonthEnd                           174                3.55\n",
       "BranchID_323                       159                3.24\n",
       "BranchID_118                       154                3.14\n",
       "BranchID_270                       152                3.10\n",
       "BranchID_433                       146                2.98\n",
       "BranchID_111                       145                2.96\n",
       "BranchID_370                       130                2.65\n",
       "BranchID_99                        112                2.29\n",
       "BranchID_154                       101                2.06\n",
       "Branch_Cat_small                   100                2.04\n",
       "BranchID_110                        93                1.90\n",
       "BranchID_196                        83                1.69\n",
       "BranchID_133                        83                1.69\n",
       "BranchID_115                        71                1.45\n",
       "Month                               60                1.22\n",
       "BranchID_289                        59                1.20\n",
       "BranchID_334                        57                1.16\n",
       "BranchID_367                        51                1.04\n",
       "BranchID_317                        44                0.90\n",
       "BranchID_469                        39                0.80\n",
       "BranchID_325                        34                0.69\n",
       "BranchID_267                        33                0.67\n",
       "BranchID_144                        28                0.57\n",
       "BranchID_344                        28                0.57\n",
       "BranchID_458                        27                0.55\n",
       "BranchID_290                        19                0.39\n",
       "BranchID_203                        15                0.31\n",
       "BranchID_126                         9                0.18\n",
       "BranchID_319                         8                0.16\n",
       "BranchID_364                         6                0.12\n",
       "BranchID_415                         0                0.00\n",
       "BranchID_140                         0                0.00\n",
       "BranchID_155                         0                0.00\n",
       "BranchID_501                         0                0.00\n",
       "BranchID_230                         0                0.00\n",
       "BranchID_177                         0                0.00\n",
       "BranchID_441                         0                0.00\n",
       "BranchID_434                         0                0.00\n",
       "BranchID_169                         0                0.00\n",
       "BranchID_425                         0                0.00\n",
       "BranchID_398                         0                0.00\n",
       "BranchID_382                         0                0.00\n",
       "BranchID_125                         0                0.00\n",
       "BranchID_273                         0                0.00\n",
       "BranchID_217                         0                0.00\n",
       "BranchID_356                         0                0.00\n",
       "BranchID_131                         0                0.00\n",
       "BranchID_336                         0                0.00\n",
       "BranchID_151                         0                0.00\n",
       "BranchID_333                         0                0.00\n",
       "BranchID_362                         0                0.00"
      ]
     },
     "execution_count": 32,
     "metadata": {},
     "output_type": "execute_result"
    }
   ],
   "source": [
    "lgbm_feature_importances = pd.DataFrame(final_model.feature_importances_,index = X.columns,columns=['Variable importance']).sort_values('Variable importance',ascending=False)\n",
    "lgbm_feature_importances['Percent Importance'] = round((lgbm_feature_importances['Variable importance'] / lgbm_feature_importances['Variable importance'].sum()) * 100,2)\n",
    "lgbm_feature_importances"
   ]
  },
  {
   "cell_type": "markdown",
   "metadata": {
    "papermill": {
     "duration": 0.051779,
     "end_time": "2021-01-22T22:00:14.927076",
     "exception": false,
     "start_time": "2021-01-22T22:00:14.875297",
     "status": "completed"
    },
    "tags": []
   },
   "source": [
    "## 7. Model for each branch group"
   ]
  },
  {
   "cell_type": "code",
   "execution_count": 33,
   "metadata": {
    "execution": {
     "iopub.execute_input": "2021-01-22T22:00:15.051802Z",
     "iopub.status.busy": "2021-01-22T22:00:15.049935Z",
     "iopub.status.idle": "2021-01-22T22:00:15.098343Z",
     "shell.execute_reply": "2021-01-22T22:00:15.097780Z"
    },
    "papermill": {
     "duration": 0.115544,
     "end_time": "2021-01-22T22:00:15.098474",
     "exception": false,
     "start_time": "2021-01-22T22:00:14.982930",
     "status": "completed"
    },
    "tags": []
   },
   "outputs": [
    {
     "ename": "NameError",
     "evalue": "name 'large_x_train' is not defined",
     "output_type": "error",
     "traceback": [
      "\u001b[0;31m---------------------------------------------------------------------------\u001b[0m",
      "\u001b[0;31mNameError\u001b[0m                                 Traceback (most recent call last)",
      "\u001b[0;32m<ipython-input-33-f7d90bd5528e>\u001b[0m in \u001b[0;36m<module>\u001b[0;34m\u001b[0m\n\u001b[0;32m----> 1\u001b[0;31m \u001b[0mlarge_x_train\u001b[0m\u001b[0;34m\u001b[0m\u001b[0;34m\u001b[0m\u001b[0m\n\u001b[0m",
      "\u001b[0;31mNameError\u001b[0m: name 'large_x_train' is not defined"
     ]
    }
   ],
   "source": [
    "large_x_train"
   ]
  },
  {
   "cell_type": "code",
   "execution_count": 34,
   "metadata": {
    "execution": {
     "iopub.execute_input": "2021-01-22T22:00:15.248837Z",
     "iopub.status.busy": "2021-01-22T22:00:15.248147Z",
     "iopub.status.idle": "2021-01-22T22:00:15.520555Z",
     "shell.execute_reply": "2021-01-22T22:00:15.521702Z"
    },
    "papermill": {
     "duration": 0.369479,
     "end_time": "2021-01-22T22:00:15.521928",
     "exception": false,
     "start_time": "2021-01-22T22:00:15.152449",
     "status": "completed"
    },
    "tags": []
   },
   "outputs": [
    {
     "data": {
      "text/plain": [
       "LGBMRegressor(learning_rate=0.01, num_leaves=50, random_state=2021)"
      ]
     },
     "execution_count": 34,
     "metadata": {},
     "output_type": "execute_result"
    }
   ],
   "source": [
    "large_train = train[train['Branch_Cat']=='large']\n",
    "large_x_train = large_train.drop(['CashOrdersReceived','CashBalance_StartOfDay','TotalCashUsed','Branch_Cat'],axis=1)\n",
    "large_x_train = pd.get_dummies(large_x_train)\n",
    "large_y_train = large_train['TotalCashUsed']\n",
    "large_model = LGBMRegressor(random_state=2021,learning_rate=0.01,max_depth=-1,num_leaves=50)\n",
    "large_model.fit(large_x_train,large_y_train)"
   ]
  },
  {
   "cell_type": "code",
   "execution_count": 35,
   "metadata": {
    "execution": {
     "iopub.execute_input": "2021-01-22T22:00:15.703306Z",
     "iopub.status.busy": "2021-01-22T22:00:15.701914Z",
     "iopub.status.idle": "2021-01-22T22:00:16.070109Z",
     "shell.execute_reply": "2021-01-22T22:00:16.070762Z"
    },
    "papermill": {
     "duration": 0.479187,
     "end_time": "2021-01-22T22:00:16.071112",
     "exception": false,
     "start_time": "2021-01-22T22:00:15.591925",
     "status": "completed"
    },
    "tags": []
   },
   "outputs": [
    {
     "data": {
      "text/plain": [
       "LGBMRegressor(learning_rate=0.01, num_leaves=50, random_state=2021)"
      ]
     },
     "execution_count": 35,
     "metadata": {},
     "output_type": "execute_result"
    }
   ],
   "source": [
    "medium_train = train[train['Branch_Cat']=='medium']\n",
    "medium_x_train = medium_train.drop(['CashOrdersReceived','CashBalance_StartOfDay','TotalCashUsed','Branch_Cat'],axis=1)\n",
    "medium_x_train = pd.get_dummies(medium_x_train)\n",
    "medium_y_train = medium_train['TotalCashUsed']\n",
    "medium_model = LGBMRegressor(random_state=2021,learning_rate=0.01,max_depth=-1,num_leaves=50)\n",
    "medium_model.fit(medium_x_train,medium_y_train)"
   ]
  },
  {
   "cell_type": "code",
   "execution_count": 36,
   "metadata": {
    "execution": {
     "iopub.execute_input": "2021-01-22T22:00:16.259790Z",
     "iopub.status.busy": "2021-01-22T22:00:16.258580Z",
     "iopub.status.idle": "2021-01-22T22:00:17.083624Z",
     "shell.execute_reply": "2021-01-22T22:00:17.084340Z"
    },
    "papermill": {
     "duration": 0.940473,
     "end_time": "2021-01-22T22:00:17.084539",
     "exception": false,
     "start_time": "2021-01-22T22:00:16.144066",
     "status": "completed"
    },
    "tags": []
   },
   "outputs": [
    {
     "data": {
      "text/plain": [
       "LGBMRegressor(learning_rate=0.01, num_leaves=50, random_state=2021)"
      ]
     },
     "execution_count": 36,
     "metadata": {},
     "output_type": "execute_result"
    }
   ],
   "source": [
    "small_train = train[train['Branch_Cat']=='small']\n",
    "small_x_train = small_train.drop(['CashOrdersReceived','CashBalance_StartOfDay','TotalCashUsed','Branch_Cat'],axis=1)\n",
    "small_x_train = pd.get_dummies(small_x_train)\n",
    "small_y_train = small_train['TotalCashUsed']\n",
    "small_model = LGBMRegressor(random_state=2021,learning_rate=0.01,max_depth=-1,num_leaves=50)\n",
    "small_model.fit(small_x_train,small_y_train)"
   ]
  },
  {
   "cell_type": "markdown",
   "metadata": {
    "papermill": {
     "duration": 0.076526,
     "end_time": "2021-01-22T22:00:17.235779",
     "exception": false,
     "start_time": "2021-01-22T22:00:17.159253",
     "status": "completed"
    },
    "tags": []
   },
   "source": [
    "## 8. Test predictions"
   ]
  },
  {
   "cell_type": "code",
   "execution_count": 37,
   "metadata": {
    "execution": {
     "iopub.execute_input": "2021-01-22T22:00:17.381313Z",
     "iopub.status.busy": "2021-01-22T22:00:17.380578Z",
     "iopub.status.idle": "2021-01-22T22:00:17.403373Z",
     "shell.execute_reply": "2021-01-22T22:00:17.402764Z"
    },
    "papermill": {
     "duration": 0.097842,
     "end_time": "2021-01-22T22:00:17.403497",
     "exception": false,
     "start_time": "2021-01-22T22:00:17.305655",
     "status": "completed"
    },
    "tags": []
   },
   "outputs": [],
   "source": [
    "unique_branch = list(train['BranchID'].unique())\n",
    "from datetime import timedelta, date\n",
    "final = list()\n",
    "def daterange(date1, date2):\n",
    "    for n in range(int ((date2 - date1).days)+1):\n",
    "        yield date1 + timedelta(n)\n",
    "\n",
    "start_dt = date(2020, 8, 1)\n",
    "end_dt = date(2020, 11, 30)\n",
    "for dt in daterange(start_dt, end_dt):\n",
    "    for i in unique_branch:\n",
    "        final_1 = str(dt) + '_' + i\n",
    "        final.append(final_1)\n",
    "final\n",
    "\n",
    "date_series = []\n",
    "branch_series = []\n",
    "for i in final:\n",
    "    date = i.split(sep='_')[0]\n",
    "    branch_code = i.split(sep='_')[1]\n",
    "    date_series.append(date)\n",
    "    branch_series.append(branch_code)"
   ]
  },
  {
   "cell_type": "code",
   "execution_count": 38,
   "metadata": {
    "execution": {
     "iopub.execute_input": "2021-01-22T22:00:17.519627Z",
     "iopub.status.busy": "2021-01-22T22:00:17.518942Z",
     "iopub.status.idle": "2021-01-22T22:00:17.523080Z",
     "shell.execute_reply": "2021-01-22T22:00:17.522374Z"
    },
    "papermill": {
     "duration": 0.064613,
     "end_time": "2021-01-22T22:00:17.523219",
     "exception": false,
     "start_time": "2021-01-22T22:00:17.458606",
     "status": "completed"
    },
    "tags": []
   },
   "outputs": [],
   "source": [
    "X_test = pd.DataFrame()"
   ]
  },
  {
   "cell_type": "code",
   "execution_count": 39,
   "metadata": {
    "execution": {
     "iopub.execute_input": "2021-01-22T22:00:17.655184Z",
     "iopub.status.busy": "2021-01-22T22:00:17.646839Z",
     "iopub.status.idle": "2021-01-22T22:00:18.318428Z",
     "shell.execute_reply": "2021-01-22T22:00:18.317831Z"
    },
    "papermill": {
     "duration": 0.739608,
     "end_time": "2021-01-22T22:00:18.318573",
     "exception": false,
     "start_time": "2021-01-22T22:00:17.578965",
     "status": "completed"
    },
    "tags": []
   },
   "outputs": [],
   "source": [
    "X_test = pd.DataFrame(data=[date_series,branch_series],index=['BusinessDate', 'BranchID']).T\n",
    "X_test['BusinessDate'] = pd.to_datetime(X_test['BusinessDate'])\n",
    "X_test['DayofWeek'] = X_test['BusinessDate'].dt.dayofweek\n",
    "X_test['Month'] = X_test['BusinessDate'].dt.month\n",
    "X_test['DayofMonth'] = X_test['BusinessDate'].dt.day\n",
    "X_test['MonthEnd'] = np.where(X_test['BusinessDate'].dt.is_month_end,1,0)\n",
    "\n",
    "#Specific period related features\n",
    "X_test['Holiday'] = X_test['BusinessDate'].isin(holidays['HolidayDate']).astype(int)\n",
    "\n",
    "\n",
    "X_test['BusinessDate'] = pd.to_datetime(X_test['BusinessDate'])\n",
    "X_test['BusinessDate'] = X_test['BusinessDate'].apply(lambda x: x.toordinal())\n",
    "\n",
    "\n",
    "#added variable for branch category\n",
    "#Creating branch averages and assigning classes based on cumulative percentages\n",
    "\n",
    "X_test['Branch_Cat'] = pd.Series(X_test['BranchID'].apply(lambda row: assign_class(row)))\n"
   ]
  },
  {
   "cell_type": "code",
   "execution_count": 40,
   "metadata": {
    "execution": {
     "iopub.execute_input": "2021-01-22T22:00:18.451301Z",
     "iopub.status.busy": "2021-01-22T22:00:18.450284Z",
     "iopub.status.idle": "2021-01-22T22:00:18.462549Z",
     "shell.execute_reply": "2021-01-22T22:00:18.463083Z"
    },
    "papermill": {
     "duration": 0.087102,
     "end_time": "2021-01-22T22:00:18.463229",
     "exception": false,
     "start_time": "2021-01-22T22:00:18.376127",
     "status": "completed"
    },
    "tags": []
   },
   "outputs": [
    {
     "data": {
      "text/html": [
       "<div>\n",
       "<style scoped>\n",
       "    .dataframe tbody tr th:only-of-type {\n",
       "        vertical-align: middle;\n",
       "    }\n",
       "\n",
       "    .dataframe tbody tr th {\n",
       "        vertical-align: top;\n",
       "    }\n",
       "\n",
       "    .dataframe thead th {\n",
       "        text-align: right;\n",
       "    }\n",
       "</style>\n",
       "<table border=\"1\" class=\"dataframe\">\n",
       "  <thead>\n",
       "    <tr style=\"text-align: right;\">\n",
       "      <th></th>\n",
       "      <th>BusinessDate</th>\n",
       "      <th>BranchID</th>\n",
       "      <th>DayofWeek</th>\n",
       "      <th>Month</th>\n",
       "      <th>DayofMonth</th>\n",
       "      <th>MonthEnd</th>\n",
       "      <th>Holiday</th>\n",
       "      <th>Branch_Cat</th>\n",
       "    </tr>\n",
       "  </thead>\n",
       "  <tbody>\n",
       "    <tr>\n",
       "      <th>0</th>\n",
       "      <td>737638</td>\n",
       "      <td>99</td>\n",
       "      <td>5</td>\n",
       "      <td>8</td>\n",
       "      <td>1</td>\n",
       "      <td>0</td>\n",
       "      <td>0</td>\n",
       "      <td>small</td>\n",
       "    </tr>\n",
       "    <tr>\n",
       "      <th>1</th>\n",
       "      <td>737638</td>\n",
       "      <td>108</td>\n",
       "      <td>5</td>\n",
       "      <td>8</td>\n",
       "      <td>1</td>\n",
       "      <td>0</td>\n",
       "      <td>0</td>\n",
       "      <td>medium</td>\n",
       "    </tr>\n",
       "    <tr>\n",
       "      <th>2</th>\n",
       "      <td>737638</td>\n",
       "      <td>110</td>\n",
       "      <td>5</td>\n",
       "      <td>8</td>\n",
       "      <td>1</td>\n",
       "      <td>0</td>\n",
       "      <td>0</td>\n",
       "      <td>small</td>\n",
       "    </tr>\n",
       "    <tr>\n",
       "      <th>3</th>\n",
       "      <td>737638</td>\n",
       "      <td>111</td>\n",
       "      <td>5</td>\n",
       "      <td>8</td>\n",
       "      <td>1</td>\n",
       "      <td>0</td>\n",
       "      <td>0</td>\n",
       "      <td>small</td>\n",
       "    </tr>\n",
       "    <tr>\n",
       "      <th>4</th>\n",
       "      <td>737638</td>\n",
       "      <td>115</td>\n",
       "      <td>5</td>\n",
       "      <td>8</td>\n",
       "      <td>1</td>\n",
       "      <td>0</td>\n",
       "      <td>0</td>\n",
       "      <td>small</td>\n",
       "    </tr>\n",
       "    <tr>\n",
       "      <th>...</th>\n",
       "      <td>...</td>\n",
       "      <td>...</td>\n",
       "      <td>...</td>\n",
       "      <td>...</td>\n",
       "      <td>...</td>\n",
       "      <td>...</td>\n",
       "      <td>...</td>\n",
       "      <td>...</td>\n",
       "    </tr>\n",
       "    <tr>\n",
       "      <th>5973</th>\n",
       "      <td>737759</td>\n",
       "      <td>434</td>\n",
       "      <td>0</td>\n",
       "      <td>11</td>\n",
       "      <td>30</td>\n",
       "      <td>1</td>\n",
       "      <td>0</td>\n",
       "      <td>medium</td>\n",
       "    </tr>\n",
       "    <tr>\n",
       "      <th>5974</th>\n",
       "      <td>737759</td>\n",
       "      <td>441</td>\n",
       "      <td>0</td>\n",
       "      <td>11</td>\n",
       "      <td>30</td>\n",
       "      <td>1</td>\n",
       "      <td>0</td>\n",
       "      <td>small</td>\n",
       "    </tr>\n",
       "    <tr>\n",
       "      <th>5975</th>\n",
       "      <td>737759</td>\n",
       "      <td>458</td>\n",
       "      <td>0</td>\n",
       "      <td>11</td>\n",
       "      <td>30</td>\n",
       "      <td>1</td>\n",
       "      <td>0</td>\n",
       "      <td>small</td>\n",
       "    </tr>\n",
       "    <tr>\n",
       "      <th>5976</th>\n",
       "      <td>737759</td>\n",
       "      <td>469</td>\n",
       "      <td>0</td>\n",
       "      <td>11</td>\n",
       "      <td>30</td>\n",
       "      <td>1</td>\n",
       "      <td>0</td>\n",
       "      <td>large</td>\n",
       "    </tr>\n",
       "    <tr>\n",
       "      <th>5977</th>\n",
       "      <td>737759</td>\n",
       "      <td>501</td>\n",
       "      <td>0</td>\n",
       "      <td>11</td>\n",
       "      <td>30</td>\n",
       "      <td>1</td>\n",
       "      <td>0</td>\n",
       "      <td>medium</td>\n",
       "    </tr>\n",
       "  </tbody>\n",
       "</table>\n",
       "<p>5978 rows × 8 columns</p>\n",
       "</div>"
      ],
      "text/plain": [
       "      BusinessDate BranchID  DayofWeek  Month  DayofMonth  MonthEnd  Holiday  \\\n",
       "0           737638       99          5      8           1         0        0   \n",
       "1           737638      108          5      8           1         0        0   \n",
       "2           737638      110          5      8           1         0        0   \n",
       "3           737638      111          5      8           1         0        0   \n",
       "4           737638      115          5      8           1         0        0   \n",
       "...            ...      ...        ...    ...         ...       ...      ...   \n",
       "5973        737759      434          0     11          30         1        0   \n",
       "5974        737759      441          0     11          30         1        0   \n",
       "5975        737759      458          0     11          30         1        0   \n",
       "5976        737759      469          0     11          30         1        0   \n",
       "5977        737759      501          0     11          30         1        0   \n",
       "\n",
       "     Branch_Cat  \n",
       "0         small  \n",
       "1        medium  \n",
       "2         small  \n",
       "3         small  \n",
       "4         small  \n",
       "...         ...  \n",
       "5973     medium  \n",
       "5974      small  \n",
       "5975      small  \n",
       "5976      large  \n",
       "5977     medium  \n",
       "\n",
       "[5978 rows x 8 columns]"
      ]
     },
     "execution_count": 40,
     "metadata": {},
     "output_type": "execute_result"
    }
   ],
   "source": [
    "X_test"
   ]
  },
  {
   "cell_type": "code",
   "execution_count": 41,
   "metadata": {
    "execution": {
     "iopub.execute_input": "2021-01-22T22:00:18.582042Z",
     "iopub.status.busy": "2021-01-22T22:00:18.581122Z",
     "iopub.status.idle": "2021-01-22T22:00:18.584553Z",
     "shell.execute_reply": "2021-01-22T22:00:18.583764Z"
    },
    "papermill": {
     "duration": 0.064248,
     "end_time": "2021-01-22T22:00:18.584677",
     "exception": false,
     "start_time": "2021-01-22T22:00:18.520429",
     "status": "completed"
    },
    "tags": []
   },
   "outputs": [],
   "source": [
    "large_test = pd.DataFrame()"
   ]
  },
  {
   "cell_type": "code",
   "execution_count": 42,
   "metadata": {
    "execution": {
     "iopub.execute_input": "2021-01-22T22:00:18.711738Z",
     "iopub.status.busy": "2021-01-22T22:00:18.711036Z",
     "iopub.status.idle": "2021-01-22T22:00:18.830734Z",
     "shell.execute_reply": "2021-01-22T22:00:18.831859Z"
    },
    "papermill": {
     "duration": 0.191392,
     "end_time": "2021-01-22T22:00:18.832151",
     "exception": false,
     "start_time": "2021-01-22T22:00:18.640759",
     "status": "completed"
    },
    "tags": []
   },
   "outputs": [
    {
     "data": {
      "text/html": [
       "<div>\n",
       "<style scoped>\n",
       "    .dataframe tbody tr th:only-of-type {\n",
       "        vertical-align: middle;\n",
       "    }\n",
       "\n",
       "    .dataframe tbody tr th {\n",
       "        vertical-align: top;\n",
       "    }\n",
       "\n",
       "    .dataframe thead th {\n",
       "        text-align: right;\n",
       "    }\n",
       "</style>\n",
       "<table border=\"1\" class=\"dataframe\">\n",
       "  <thead>\n",
       "    <tr style=\"text-align: right;\">\n",
       "      <th></th>\n",
       "      <th>Date_Branch</th>\n",
       "      <th>TotalCashUsed</th>\n",
       "    </tr>\n",
       "  </thead>\n",
       "  <tbody>\n",
       "    <tr>\n",
       "      <th>0</th>\n",
       "      <td>3866_203</td>\n",
       "      <td>0</td>\n",
       "    </tr>\n",
       "    <tr>\n",
       "      <th>1</th>\n",
       "      <td>3866_270</td>\n",
       "      <td>0</td>\n",
       "    </tr>\n",
       "    <tr>\n",
       "      <th>2</th>\n",
       "      <td>3866_382</td>\n",
       "      <td>0</td>\n",
       "    </tr>\n",
       "    <tr>\n",
       "      <th>3</th>\n",
       "      <td>3866_433</td>\n",
       "      <td>0</td>\n",
       "    </tr>\n",
       "    <tr>\n",
       "      <th>4</th>\n",
       "      <td>3866_469</td>\n",
       "      <td>0</td>\n",
       "    </tr>\n",
       "    <tr>\n",
       "      <th>...</th>\n",
       "      <td>...</td>\n",
       "      <td>...</td>\n",
       "    </tr>\n",
       "    <tr>\n",
       "      <th>605</th>\n",
       "      <td>3987_203</td>\n",
       "      <td>139484</td>\n",
       "    </tr>\n",
       "    <tr>\n",
       "      <th>606</th>\n",
       "      <td>3987_270</td>\n",
       "      <td>146209</td>\n",
       "    </tr>\n",
       "    <tr>\n",
       "      <th>607</th>\n",
       "      <td>3987_382</td>\n",
       "      <td>141218</td>\n",
       "    </tr>\n",
       "    <tr>\n",
       "      <th>608</th>\n",
       "      <td>3987_433</td>\n",
       "      <td>141218</td>\n",
       "    </tr>\n",
       "    <tr>\n",
       "      <th>609</th>\n",
       "      <td>3987_469</td>\n",
       "      <td>139239</td>\n",
       "    </tr>\n",
       "  </tbody>\n",
       "</table>\n",
       "<p>610 rows × 2 columns</p>\n",
       "</div>"
      ],
      "text/plain": [
       "    Date_Branch TotalCashUsed  \n",
       "0      3866_203               0\n",
       "1      3866_270               0\n",
       "2      3866_382               0\n",
       "3      3866_433               0\n",
       "4      3866_469               0\n",
       "..          ...             ...\n",
       "605    3987_203          139484\n",
       "606    3987_270          146209\n",
       "607    3987_382          141218\n",
       "608    3987_433          141218\n",
       "609    3987_469          139239\n",
       "\n",
       "[610 rows x 2 columns]"
      ]
     },
     "execution_count": 42,
     "metadata": {},
     "output_type": "execute_result"
    }
   ],
   "source": [
    "#Predictions by individual grouped models\n",
    "\n",
    "large_test = X_test[X_test['Branch_Cat']=='large']\n",
    "large_test = large_test.drop('Branch_Cat',axis=1)\n",
    "large_test = pd.get_dummies(large_test)\n",
    "large_preds = large_model.predict(large_test)\n",
    "\n",
    "\n",
    "large_test['TotalCashUsed  '] = large_preds\n",
    "large_test['BusinessDate'] = large_test['BusinessDate'].map(dt.fromordinal)\n",
    "large_test['BusinessDate'] = pd.to_datetime(large_test['BusinessDate'])\n",
    "\n",
    "#Rule1: Saturdays on holidays\n",
    "large_test.loc[(large_test.Holiday == 1) & (large_test.DayofWeek == 5) ,'TotalCashUsed  '] = 0\n",
    "\n",
    "#Rule2: Saturdays except for on month ends\n",
    "large_test.loc[(large_test.DayofWeek == 5) & (~large_test.BusinessDate.dt.day.isin([29,30,31])) , 'TotalCashUsed  '] = 0\n",
    "\n",
    "\n",
    "large_col = []\n",
    "large_branch = list(large_train['BranchID'].unique())\n",
    "\n",
    "for i in range(3866,3866+122):\n",
    "    for j in large_branch:\n",
    "        col_value = str(i) + '_' + j\n",
    "        large_col.append(col_value)\n",
    "        \n",
    "large_submission = pd.DataFrame(data=[large_col,large_test['TotalCashUsed  ']],index=['Date_Branch', 'TotalCashUsed  ']).T\n",
    "large_submission"
   ]
  },
  {
   "cell_type": "code",
   "execution_count": 43,
   "metadata": {
    "execution": {
     "iopub.execute_input": "2021-01-22T22:00:18.993257Z",
     "iopub.status.busy": "2021-01-22T22:00:18.991855Z",
     "iopub.status.idle": "2021-01-22T22:00:19.211773Z",
     "shell.execute_reply": "2021-01-22T22:00:19.211159Z"
    },
    "papermill": {
     "duration": 0.303418,
     "end_time": "2021-01-22T22:00:19.211905",
     "exception": false,
     "start_time": "2021-01-22T22:00:18.908487",
     "status": "completed"
    },
    "tags": []
   },
   "outputs": [
    {
     "data": {
      "text/html": [
       "<div>\n",
       "<style scoped>\n",
       "    .dataframe tbody tr th:only-of-type {\n",
       "        vertical-align: middle;\n",
       "    }\n",
       "\n",
       "    .dataframe tbody tr th {\n",
       "        vertical-align: top;\n",
       "    }\n",
       "\n",
       "    .dataframe thead th {\n",
       "        text-align: right;\n",
       "    }\n",
       "</style>\n",
       "<table border=\"1\" class=\"dataframe\">\n",
       "  <thead>\n",
       "    <tr style=\"text-align: right;\">\n",
       "      <th></th>\n",
       "      <th>Date_Branch</th>\n",
       "      <th>TotalCashUsed</th>\n",
       "    </tr>\n",
       "  </thead>\n",
       "  <tbody>\n",
       "    <tr>\n",
       "      <th>0</th>\n",
       "      <td>3866_108</td>\n",
       "      <td>0</td>\n",
       "    </tr>\n",
       "    <tr>\n",
       "      <th>1</th>\n",
       "      <td>3866_125</td>\n",
       "      <td>0</td>\n",
       "    </tr>\n",
       "    <tr>\n",
       "      <th>2</th>\n",
       "      <td>3866_154</td>\n",
       "      <td>0</td>\n",
       "    </tr>\n",
       "    <tr>\n",
       "      <th>3</th>\n",
       "      <td>3866_155</td>\n",
       "      <td>0</td>\n",
       "    </tr>\n",
       "    <tr>\n",
       "      <th>4</th>\n",
       "      <td>3866_289</td>\n",
       "      <td>0</td>\n",
       "    </tr>\n",
       "    <tr>\n",
       "      <th>...</th>\n",
       "      <td>...</td>\n",
       "      <td>...</td>\n",
       "    </tr>\n",
       "    <tr>\n",
       "      <th>1337</th>\n",
       "      <td>3987_336</td>\n",
       "      <td>111009</td>\n",
       "    </tr>\n",
       "    <tr>\n",
       "      <th>1338</th>\n",
       "      <td>3987_362</td>\n",
       "      <td>92639</td>\n",
       "    </tr>\n",
       "    <tr>\n",
       "      <th>1339</th>\n",
       "      <td>3987_415</td>\n",
       "      <td>111009</td>\n",
       "    </tr>\n",
       "    <tr>\n",
       "      <th>1340</th>\n",
       "      <td>3987_434</td>\n",
       "      <td>111009</td>\n",
       "    </tr>\n",
       "    <tr>\n",
       "      <th>1341</th>\n",
       "      <td>3987_501</td>\n",
       "      <td>111009</td>\n",
       "    </tr>\n",
       "  </tbody>\n",
       "</table>\n",
       "<p>1342 rows × 2 columns</p>\n",
       "</div>"
      ],
      "text/plain": [
       "     Date_Branch TotalCashUsed  \n",
       "0       3866_108               0\n",
       "1       3866_125               0\n",
       "2       3866_154               0\n",
       "3       3866_155               0\n",
       "4       3866_289               0\n",
       "...          ...             ...\n",
       "1337    3987_336          111009\n",
       "1338    3987_362           92639\n",
       "1339    3987_415          111009\n",
       "1340    3987_434          111009\n",
       "1341    3987_501          111009\n",
       "\n",
       "[1342 rows x 2 columns]"
      ]
     },
     "execution_count": 43,
     "metadata": {},
     "output_type": "execute_result"
    }
   ],
   "source": [
    "#Predictions by individual grouped models\n",
    "\n",
    "medium_test = X_test[X_test['Branch_Cat']=='medium']\n",
    "medium_test = medium_test.drop('Branch_Cat',axis=1)\n",
    "medium_test = pd.get_dummies(medium_test)\n",
    "medium_preds = medium_model.predict(medium_test)\n",
    "\n",
    "\n",
    "medium_test['TotalCashUsed  '] = medium_preds\n",
    "medium_test['BusinessDate'] = medium_test['BusinessDate'].map(dt.fromordinal)\n",
    "medium_test['BusinessDate'] = pd.to_datetime(medium_test['BusinessDate'])\n",
    "\n",
    "#Rule1: Saturdays on holidays\n",
    "medium_test.loc[(medium_test.Holiday == 1) & (medium_test.DayofWeek == 5) ,'TotalCashUsed  '] = 0\n",
    "\n",
    "#Rule2: Saturdays except for on month ends\n",
    "medium_test.loc[(medium_test.DayofWeek == 5) & (~medium_test.BusinessDate.dt.day.isin([29,30,31])) , 'TotalCashUsed  '] = 0\n",
    "\n",
    "\n",
    "medium_col = []\n",
    "medium_branch = list(medium_train['BranchID'].unique())\n",
    "\n",
    "for i in range(3866,3866+122):\n",
    "    for j in medium_branch:\n",
    "        col_value = str(i) + '_' + j\n",
    "        medium_col.append(col_value)\n",
    "        \n",
    "medium_submission = pd.DataFrame(data=[medium_col,medium_test['TotalCashUsed  ']],index=['Date_Branch', 'TotalCashUsed  ']).T\n",
    "medium_submission"
   ]
  },
  {
   "cell_type": "code",
   "execution_count": 44,
   "metadata": {
    "execution": {
     "iopub.execute_input": "2021-01-22T22:00:19.335366Z",
     "iopub.status.busy": "2021-01-22T22:00:19.334063Z",
     "iopub.status.idle": "2021-01-22T22:00:19.858751Z",
     "shell.execute_reply": "2021-01-22T22:00:19.859415Z"
    },
    "papermill": {
     "duration": 0.585649,
     "end_time": "2021-01-22T22:00:19.859579",
     "exception": false,
     "start_time": "2021-01-22T22:00:19.273930",
     "status": "completed"
    },
    "tags": []
   },
   "outputs": [
    {
     "data": {
      "text/html": [
       "<div>\n",
       "<style scoped>\n",
       "    .dataframe tbody tr th:only-of-type {\n",
       "        vertical-align: middle;\n",
       "    }\n",
       "\n",
       "    .dataframe tbody tr th {\n",
       "        vertical-align: top;\n",
       "    }\n",
       "\n",
       "    .dataframe thead th {\n",
       "        text-align: right;\n",
       "    }\n",
       "</style>\n",
       "<table border=\"1\" class=\"dataframe\">\n",
       "  <thead>\n",
       "    <tr style=\"text-align: right;\">\n",
       "      <th></th>\n",
       "      <th>Date_Branch</th>\n",
       "      <th>TotalCashUsed</th>\n",
       "    </tr>\n",
       "  </thead>\n",
       "  <tbody>\n",
       "    <tr>\n",
       "      <th>0</th>\n",
       "      <td>3866_99</td>\n",
       "      <td>0</td>\n",
       "    </tr>\n",
       "    <tr>\n",
       "      <th>1</th>\n",
       "      <td>3866_110</td>\n",
       "      <td>0</td>\n",
       "    </tr>\n",
       "    <tr>\n",
       "      <th>2</th>\n",
       "      <td>3866_111</td>\n",
       "      <td>0</td>\n",
       "    </tr>\n",
       "    <tr>\n",
       "      <th>3</th>\n",
       "      <td>3866_115</td>\n",
       "      <td>0</td>\n",
       "    </tr>\n",
       "    <tr>\n",
       "      <th>4</th>\n",
       "      <td>3866_118</td>\n",
       "      <td>0</td>\n",
       "    </tr>\n",
       "    <tr>\n",
       "      <th>...</th>\n",
       "      <td>...</td>\n",
       "      <td>...</td>\n",
       "    </tr>\n",
       "    <tr>\n",
       "      <th>4021</th>\n",
       "      <td>3987_370</td>\n",
       "      <td>26245.7</td>\n",
       "    </tr>\n",
       "    <tr>\n",
       "      <th>4022</th>\n",
       "      <td>3987_398</td>\n",
       "      <td>26245.7</td>\n",
       "    </tr>\n",
       "    <tr>\n",
       "      <th>4023</th>\n",
       "      <td>3987_425</td>\n",
       "      <td>26245.7</td>\n",
       "    </tr>\n",
       "    <tr>\n",
       "      <th>4024</th>\n",
       "      <td>3987_441</td>\n",
       "      <td>26245.7</td>\n",
       "    </tr>\n",
       "    <tr>\n",
       "      <th>4025</th>\n",
       "      <td>3987_458</td>\n",
       "      <td>26245.7</td>\n",
       "    </tr>\n",
       "  </tbody>\n",
       "</table>\n",
       "<p>4026 rows × 2 columns</p>\n",
       "</div>"
      ],
      "text/plain": [
       "     Date_Branch TotalCashUsed  \n",
       "0        3866_99               0\n",
       "1       3866_110               0\n",
       "2       3866_111               0\n",
       "3       3866_115               0\n",
       "4       3866_118               0\n",
       "...          ...             ...\n",
       "4021    3987_370         26245.7\n",
       "4022    3987_398         26245.7\n",
       "4023    3987_425         26245.7\n",
       "4024    3987_441         26245.7\n",
       "4025    3987_458         26245.7\n",
       "\n",
       "[4026 rows x 2 columns]"
      ]
     },
     "execution_count": 44,
     "metadata": {},
     "output_type": "execute_result"
    }
   ],
   "source": [
    "#Predictions by individual grouped models\n",
    "\n",
    "small_test = X_test[X_test['Branch_Cat']=='small']\n",
    "small_test = small_test.drop('Branch_Cat',axis=1)\n",
    "small_test = pd.get_dummies(small_test)\n",
    "small_preds = small_model.predict(small_test)\n",
    "\n",
    "\n",
    "small_test['TotalCashUsed  '] = small_preds\n",
    "small_test['BusinessDate'] = small_test['BusinessDate'].map(dt.fromordinal)\n",
    "small_test['BusinessDate'] = pd.to_datetime(small_test['BusinessDate'])\n",
    "\n",
    "#Rule1: Saturdays on holidays\n",
    "small_test.loc[(small_test.Holiday == 1) & (small_test.DayofWeek == 5) ,'TotalCashUsed  '] = 0\n",
    "\n",
    "#Rule2: Saturdays except for on month ends\n",
    "small_test.loc[(small_test.DayofWeek == 5) & (~small_test.BusinessDate.dt.day.isin([29,30,31])) , 'TotalCashUsed  '] = 0\n",
    "\n",
    "\n",
    "small_col = []\n",
    "small_branch = list(small_train['BranchID'].unique())\n",
    "\n",
    "for i in range(3866,3866+122):\n",
    "    for j in small_branch:\n",
    "        col_value = str(i) + '_' + j\n",
    "        small_col.append(col_value)\n",
    "        \n",
    "small_submission = pd.DataFrame(data=[small_col,small_test['TotalCashUsed  ']],index=['Date_Branch', 'TotalCashUsed  ']).T\n",
    "small_submission"
   ]
  },
  {
   "cell_type": "code",
   "execution_count": 45,
   "metadata": {
    "execution": {
     "iopub.execute_input": "2021-01-22T22:00:19.983892Z",
     "iopub.status.busy": "2021-01-22T22:00:19.982812Z",
     "iopub.status.idle": "2021-01-22T22:00:20.001769Z",
     "shell.execute_reply": "2021-01-22T22:00:20.002361Z"
    },
    "papermill": {
     "duration": 0.084331,
     "end_time": "2021-01-22T22:00:20.002533",
     "exception": false,
     "start_time": "2021-01-22T22:00:19.918202",
     "status": "completed"
    },
    "tags": []
   },
   "outputs": [
    {
     "ename": "NameError",
     "evalue": "name 'submission' is not defined",
     "output_type": "error",
     "traceback": [
      "\u001b[0;31m---------------------------------------------------------------------------\u001b[0m",
      "\u001b[0;31mNameError\u001b[0m                                 Traceback (most recent call last)",
      "\u001b[0;32m<ipython-input-45-9569e5aea754>\u001b[0m in \u001b[0;36m<module>\u001b[0;34m\u001b[0m\n\u001b[0;32m----> 1\u001b[0;31m \u001b[0msubmission\u001b[0m\u001b[0;34m\u001b[0m\u001b[0;34m\u001b[0m\u001b[0m\n\u001b[0m",
      "\u001b[0;31mNameError\u001b[0m: name 'submission' is not defined"
     ]
    }
   ],
   "source": [
    "submission"
   ]
  },
  {
   "cell_type": "code",
   "execution_count": 46,
   "metadata": {
    "execution": {
     "iopub.execute_input": "2021-01-22T22:00:20.122852Z",
     "iopub.status.busy": "2021-01-22T22:00:20.122119Z",
     "iopub.status.idle": "2021-01-22T22:00:20.154252Z",
     "shell.execute_reply": "2021-01-22T22:00:20.153301Z"
    },
    "papermill": {
     "duration": 0.094179,
     "end_time": "2021-01-22T22:00:20.154410",
     "exception": false,
     "start_time": "2021-01-22T22:00:20.060231",
     "status": "completed"
    },
    "tags": []
   },
   "outputs": [],
   "source": [
    "submission = pd.concat([large_submission,medium_submission,small_submission])\n",
    "submission\n",
    "submission.to_csv('/kaggle/working/Submission_v5.csv',index=None)"
   ]
  },
  {
   "cell_type": "code",
   "execution_count": 47,
   "metadata": {
    "execution": {
     "iopub.execute_input": "2021-01-22T22:00:20.276988Z",
     "iopub.status.busy": "2021-01-22T22:00:20.275670Z",
     "iopub.status.idle": "2021-01-22T22:00:20.279318Z",
     "shell.execute_reply": "2021-01-22T22:00:20.278646Z"
    },
    "papermill": {
     "duration": 0.067249,
     "end_time": "2021-01-22T22:00:20.279715",
     "exception": false,
     "start_time": "2021-01-22T22:00:20.212466",
     "status": "completed"
    },
    "tags": []
   },
   "outputs": [],
   "source": [
    "# X_test = pd.get_dummies(X_test,drop_first=True)\n",
    "# y_test = pd.Series(final_model.predict(X_test),name='y_test')\n",
    "# y_test.shape"
   ]
  },
  {
   "cell_type": "code",
   "execution_count": 48,
   "metadata": {
    "execution": {
     "iopub.execute_input": "2021-01-22T22:00:20.402953Z",
     "iopub.status.busy": "2021-01-22T22:00:20.402211Z",
     "iopub.status.idle": "2021-01-22T22:00:20.406252Z",
     "shell.execute_reply": "2021-01-22T22:00:20.405576Z"
    },
    "papermill": {
     "duration": 0.066451,
     "end_time": "2021-01-22T22:00:20.406379",
     "exception": false,
     "start_time": "2021-01-22T22:00:20.339928",
     "status": "completed"
    },
    "tags": []
   },
   "outputs": [],
   "source": [
    "# test = pd.merge(X_test,y_test,left_index=True,right_index=True)\n",
    "# test['BusinessDate'] = test['BusinessDate'].map(dt.fromordinal)\n",
    "# test['BusinessDate'] = pd.to_datetime(test['BusinessDate'])"
   ]
  },
  {
   "cell_type": "code",
   "execution_count": 49,
   "metadata": {
    "execution": {
     "iopub.execute_input": "2021-01-22T22:00:20.531039Z",
     "iopub.status.busy": "2021-01-22T22:00:20.530337Z",
     "iopub.status.idle": "2021-01-22T22:00:20.535076Z",
     "shell.execute_reply": "2021-01-22T22:00:20.534373Z"
    },
    "papermill": {
     "duration": 0.067406,
     "end_time": "2021-01-22T22:00:20.535193",
     "exception": false,
     "start_time": "2021-01-22T22:00:20.467787",
     "status": "completed"
    },
    "tags": []
   },
   "outputs": [],
   "source": [
    "# test.rename(columns={'y_test':'TotalCashUsed  '},inplace=True)"
   ]
  },
  {
   "cell_type": "code",
   "execution_count": 50,
   "metadata": {
    "execution": {
     "iopub.execute_input": "2021-01-22T22:00:20.658553Z",
     "iopub.status.busy": "2021-01-22T22:00:20.657818Z",
     "iopub.status.idle": "2021-01-22T22:00:20.662758Z",
     "shell.execute_reply": "2021-01-22T22:00:20.662160Z"
    },
    "papermill": {
     "duration": 0.068192,
     "end_time": "2021-01-22T22:00:20.662874",
     "exception": false,
     "start_time": "2021-01-22T22:00:20.594682",
     "status": "completed"
    },
    "tags": []
   },
   "outputs": [],
   "source": [
    "# #Rule1: Saturdays on holidays\n",
    "# test.loc[(test.Holiday == 1) & (test.DayofWeek == 5) ,'TotalCashUsed'] = 0\n",
    "\n",
    "# #Rule2: Saturdays except for on month ends\n",
    "# test.loc[(test.DayofWeek == 5) & (~test.BusinessDate.dt.day.isin([29,30,31])) , 'TotalCashUsed  '] = 0"
   ]
  },
  {
   "cell_type": "code",
   "execution_count": 51,
   "metadata": {
    "execution": {
     "iopub.execute_input": "2021-01-22T22:00:20.792744Z",
     "iopub.status.busy": "2021-01-22T22:00:20.792016Z",
     "iopub.status.idle": "2021-01-22T22:00:20.795155Z",
     "shell.execute_reply": "2021-01-22T22:00:20.796146Z"
    },
    "papermill": {
     "duration": 0.072619,
     "end_time": "2021-01-22T22:00:20.796342",
     "exception": false,
     "start_time": "2021-01-22T22:00:20.723723",
     "status": "completed"
    },
    "tags": []
   },
   "outputs": [],
   "source": [
    "# y_test = test['TotalCashUsed  ']"
   ]
  },
  {
   "cell_type": "code",
   "execution_count": 52,
   "metadata": {
    "execution": {
     "iopub.execute_input": "2021-01-22T22:00:20.919754Z",
     "iopub.status.busy": "2021-01-22T22:00:20.919029Z",
     "iopub.status.idle": "2021-01-22T22:00:20.921835Z",
     "shell.execute_reply": "2021-01-22T22:00:20.922479Z"
    },
    "papermill": {
     "duration": 0.067251,
     "end_time": "2021-01-22T22:00:20.922652",
     "exception": false,
     "start_time": "2021-01-22T22:00:20.855401",
     "status": "completed"
    },
    "tags": []
   },
   "outputs": [],
   "source": [
    "# unique_branch = list(train['BranchID'].unique())\n",
    "# submission_col1 = list()\n",
    "\n",
    "# for i in range(3866,3866+122):\n",
    "#     for j in unique_branch:\n",
    "#         col_value = str(i) + '_' + j\n",
    "#         submission_col1.append(col_value)"
   ]
  },
  {
   "cell_type": "code",
   "execution_count": 53,
   "metadata": {
    "execution": {
     "iopub.execute_input": "2021-01-22T22:00:21.045885Z",
     "iopub.status.busy": "2021-01-22T22:00:21.045154Z",
     "iopub.status.idle": "2021-01-22T22:00:21.048796Z",
     "shell.execute_reply": "2021-01-22T22:00:21.049400Z"
    },
    "papermill": {
     "duration": 0.06838,
     "end_time": "2021-01-22T22:00:21.049581",
     "exception": false,
     "start_time": "2021-01-22T22:00:20.981201",
     "status": "completed"
    },
    "tags": []
   },
   "outputs": [],
   "source": [
    "# submission = pd.DataFrame(data=[submission_col1,y_test],index=['Date_Branch', 'TotalCashUsed  ']).T\n",
    "# submission"
   ]
  },
  {
   "cell_type": "code",
   "execution_count": 54,
   "metadata": {
    "execution": {
     "iopub.execute_input": "2021-01-22T22:00:21.174446Z",
     "iopub.status.busy": "2021-01-22T22:00:21.173774Z",
     "iopub.status.idle": "2021-01-22T22:00:21.177404Z",
     "shell.execute_reply": "2021-01-22T22:00:21.176764Z"
    },
    "papermill": {
     "duration": 0.068397,
     "end_time": "2021-01-22T22:00:21.177552",
     "exception": false,
     "start_time": "2021-01-22T22:00:21.109155",
     "status": "completed"
    },
    "tags": []
   },
   "outputs": [],
   "source": [
    "# submission.to_csv('/kaggle/working/Submission_v5.csv',index=None)"
   ]
  },
  {
   "cell_type": "code",
   "execution_count": null,
   "metadata": {
    "papermill": {
     "duration": 0.060401,
     "end_time": "2021-01-22T22:00:21.297630",
     "exception": false,
     "start_time": "2021-01-22T22:00:21.237229",
     "status": "completed"
    },
    "tags": []
   },
   "outputs": [],
   "source": []
  }
 ],
 "metadata": {
  "kernelspec": {
   "display_name": "Python 3",
   "language": "python",
   "name": "python3"
  },
  "language_info": {
   "codemirror_mode": {
    "name": "ipython",
    "version": 3
   },
   "file_extension": ".py",
   "mimetype": "text/x-python",
   "name": "python",
   "nbconvert_exporter": "python",
   "pygments_lexer": "ipython3",
   "version": "3.8.5"
  },
  "papermill": {
   "duration": 60.464874,
   "end_time": "2021-01-22T22:00:21.462999",
   "environment_variables": {},
   "exception": null,
   "input_path": "__notebook__.ipynb",
   "output_path": "__notebook__.ipynb",
   "parameters": {},
   "start_time": "2021-01-22T21:59:20.998125",
   "version": "2.1.0"
  }
 },
 "nbformat": 4,
 "nbformat_minor": 4
}
